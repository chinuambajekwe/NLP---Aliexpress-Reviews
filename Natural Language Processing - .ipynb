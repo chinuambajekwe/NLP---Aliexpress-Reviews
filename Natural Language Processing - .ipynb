{
 "cells": [
  {
   "cell_type": "code",
   "execution_count": 1,
   "id": "66bdfdef-0f78-4d7d-a030-94795a4b26ef",
   "metadata": {},
   "outputs": [],
   "source": [
    "#import packages\n",
    "\n",
    "import pandas as pd\n",
    "from matplotlib import pyplot as plt\n",
    "import seaborn as sns\n",
    "import warnings\n",
    "warnings.filterwarnings(\"ignore\")"
   ]
  },
  {
   "cell_type": "code",
   "execution_count": 2,
   "id": "1bb38248-1f07-4d64-8183-cdda44e647d6",
   "metadata": {},
   "outputs": [],
   "source": [
    "data = pd.read_csv(\"brainaic.csv\")"
   ]
  },
  {
   "cell_type": "code",
   "execution_count": 3,
   "id": "fb4f763f-99d4-4101-a4af-57d78c453c6e",
   "metadata": {},
   "outputs": [
    {
     "data": {
      "text/html": [
       "<div>\n",
       "<style scoped>\n",
       "    .dataframe tbody tr th:only-of-type {\n",
       "        vertical-align: middle;\n",
       "    }\n",
       "\n",
       "    .dataframe tbody tr th {\n",
       "        vertical-align: top;\n",
       "    }\n",
       "\n",
       "    .dataframe thead th {\n",
       "        text-align: right;\n",
       "    }\n",
       "</style>\n",
       "<table border=\"1\" class=\"dataframe\">\n",
       "  <thead>\n",
       "    <tr style=\"text-align: right;\">\n",
       "      <th></th>\n",
       "      <th>Reviewer</th>\n",
       "      <th>Country</th>\n",
       "      <th>StarRatings</th>\n",
       "      <th>Subject</th>\n",
       "      <th>Review</th>\n",
       "      <th>Date_posted</th>\n",
       "    </tr>\n",
       "  </thead>\n",
       "  <tbody>\n",
       "    <tr>\n",
       "      <th>0</th>\n",
       "      <td>Mike Santarcangelo</td>\n",
       "      <td>US</td>\n",
       "      <td>3</td>\n",
       "      <td>Aliexpress may be a fine company, but...</td>\n",
       "      <td>Aliexpress is easy to work with, but they fulf...</td>\n",
       "      <td>Tuesday, June 4, 2024</td>\n",
       "    </tr>\n",
       "    <tr>\n",
       "      <th>1</th>\n",
       "      <td>Arthur Riding</td>\n",
       "      <td>GB</td>\n",
       "      <td>5</td>\n",
       "      <td>Great range of products, generally superior qu...</td>\n",
       "      <td>I have been using AliExpress for well over a y...</td>\n",
       "      <td>Tuesday, June 4, 2024</td>\n",
       "    </tr>\n",
       "    <tr>\n",
       "      <th>2</th>\n",
       "      <td>UK shopper Val</td>\n",
       "      <td>GB</td>\n",
       "      <td>5</td>\n",
       "      <td>Good!</td>\n",
       "      <td>A good, customer-centric marketplace. But neve...</td>\n",
       "      <td>Monday, June 3, 2024</td>\n",
       "    </tr>\n",
       "    <tr>\n",
       "      <th>3</th>\n",
       "      <td>Jim Corkery</td>\n",
       "      <td>CA</td>\n",
       "      <td>1</td>\n",
       "      <td>I purchased an Android Tesla styleâ€¦</td>\n",
       "      <td>I purchased an Android Tesla style radio.\\nAft...</td>\n",
       "      <td>Sunday, June 2, 2024</td>\n",
       "    </tr>\n",
       "    <tr>\n",
       "      <th>4</th>\n",
       "      <td>chris bardin</td>\n",
       "      <td>IE</td>\n",
       "      <td>1</td>\n",
       "      <td>They are an absolute con job dont wasteâ€¦</td>\n",
       "      <td>They are an absolute con job dont waste your m...</td>\n",
       "      <td>Tuesday, June 4, 2024</td>\n",
       "    </tr>\n",
       "  </tbody>\n",
       "</table>\n",
       "</div>"
      ],
      "text/plain": [
       "             Reviewer Country  StarRatings  \\\n",
       "0  Mike Santarcangelo      US            3   \n",
       "1       Arthur Riding      GB            5   \n",
       "2      UK shopper Val      GB            5   \n",
       "3         Jim Corkery      CA            1   \n",
       "4        chris bardin      IE            1   \n",
       "\n",
       "                                             Subject  \\\n",
       "0           Aliexpress may be a fine company, but...   \n",
       "1  Great range of products, generally superior qu...   \n",
       "2                                              Good!   \n",
       "3              I purchased an Android Tesla styleâ€¦   \n",
       "4         They are an absolute con job dont wasteâ€¦   \n",
       "\n",
       "                                              Review            Date_posted  \n",
       "0  Aliexpress is easy to work with, but they fulf...  Tuesday, June 4, 2024  \n",
       "1  I have been using AliExpress for well over a y...  Tuesday, June 4, 2024  \n",
       "2  A good, customer-centric marketplace. But neve...   Monday, June 3, 2024  \n",
       "3  I purchased an Android Tesla style radio.\\nAft...   Sunday, June 2, 2024  \n",
       "4  They are an absolute con job dont waste your m...  Tuesday, June 4, 2024  "
      ]
     },
     "execution_count": 3,
     "metadata": {},
     "output_type": "execute_result"
    }
   ],
   "source": [
    "data.head()"
   ]
  },
  {
   "cell_type": "code",
   "execution_count": 4,
   "id": "5ed3d05b-489e-424c-9158-7a7b6325dc5f",
   "metadata": {},
   "outputs": [
    {
     "name": "stdout",
     "output_type": "stream",
     "text": [
      "<class 'pandas.core.frame.DataFrame'>\n",
      "RangeIndex: 12000 entries, 0 to 11999\n",
      "Data columns (total 6 columns):\n",
      " #   Column       Non-Null Count  Dtype \n",
      "---  ------       --------------  ----- \n",
      " 0   Reviewer     11997 non-null  object\n",
      " 1   Country      11997 non-null  object\n",
      " 2   StarRatings  12000 non-null  int64 \n",
      " 3   Subject      12000 non-null  object\n",
      " 4   Review       11161 non-null  object\n",
      " 5   Date_posted  12000 non-null  object\n",
      "dtypes: int64(1), object(5)\n",
      "memory usage: 562.6+ KB\n"
     ]
    }
   ],
   "source": [
    "data.info()"
   ]
  },
  {
   "cell_type": "code",
   "execution_count": 5,
   "id": "e82bf901-54af-4f55-8139-eb18d37d8390",
   "metadata": {},
   "outputs": [],
   "source": [
    "#save relevant columns\n",
    "reviews = data[[\"StarRatings\", \"Review\"]]"
   ]
  },
  {
   "cell_type": "code",
   "execution_count": 6,
   "id": "762751cb-2f1d-4efb-8351-d09c467ad05c",
   "metadata": {},
   "outputs": [
    {
     "data": {
      "text/html": [
       "<div>\n",
       "<style scoped>\n",
       "    .dataframe tbody tr th:only-of-type {\n",
       "        vertical-align: middle;\n",
       "    }\n",
       "\n",
       "    .dataframe tbody tr th {\n",
       "        vertical-align: top;\n",
       "    }\n",
       "\n",
       "    .dataframe thead th {\n",
       "        text-align: right;\n",
       "    }\n",
       "</style>\n",
       "<table border=\"1\" class=\"dataframe\">\n",
       "  <thead>\n",
       "    <tr style=\"text-align: right;\">\n",
       "      <th></th>\n",
       "      <th>StarRatings</th>\n",
       "      <th>Review</th>\n",
       "    </tr>\n",
       "  </thead>\n",
       "  <tbody>\n",
       "    <tr>\n",
       "      <th>0</th>\n",
       "      <td>3</td>\n",
       "      <td>Aliexpress is easy to work with, but they fulf...</td>\n",
       "    </tr>\n",
       "    <tr>\n",
       "      <th>1</th>\n",
       "      <td>5</td>\n",
       "      <td>I have been using AliExpress for well over a y...</td>\n",
       "    </tr>\n",
       "    <tr>\n",
       "      <th>2</th>\n",
       "      <td>5</td>\n",
       "      <td>A good, customer-centric marketplace. But neve...</td>\n",
       "    </tr>\n",
       "    <tr>\n",
       "      <th>3</th>\n",
       "      <td>1</td>\n",
       "      <td>I purchased an Android Tesla style radio.\\nAft...</td>\n",
       "    </tr>\n",
       "    <tr>\n",
       "      <th>4</th>\n",
       "      <td>1</td>\n",
       "      <td>They are an absolute con job dont waste your m...</td>\n",
       "    </tr>\n",
       "    <tr>\n",
       "      <th>...</th>\n",
       "      <td>...</td>\n",
       "      <td>...</td>\n",
       "    </tr>\n",
       "    <tr>\n",
       "      <th>11995</th>\n",
       "      <td>5</td>\n",
       "      <td>I'm happy with the out come. Thank you</td>\n",
       "    </tr>\n",
       "    <tr>\n",
       "      <th>11996</th>\n",
       "      <td>5</td>\n",
       "      <td>Excellent quality</td>\n",
       "    </tr>\n",
       "    <tr>\n",
       "      <th>11997</th>\n",
       "      <td>1</td>\n",
       "      <td>I ordered 6 items from AliExpress and two sell...</td>\n",
       "    </tr>\n",
       "    <tr>\n",
       "      <th>11998</th>\n",
       "      <td>5</td>\n",
       "      <td>Great platform for doing business with vendors...</td>\n",
       "    </tr>\n",
       "    <tr>\n",
       "      <th>11999</th>\n",
       "      <td>1</td>\n",
       "      <td>I have been satisfied by AliExpress until rece...</td>\n",
       "    </tr>\n",
       "  </tbody>\n",
       "</table>\n",
       "<p>12000 rows × 2 columns</p>\n",
       "</div>"
      ],
      "text/plain": [
       "       StarRatings                                             Review\n",
       "0                3  Aliexpress is easy to work with, but they fulf...\n",
       "1                5  I have been using AliExpress for well over a y...\n",
       "2                5  A good, customer-centric marketplace. But neve...\n",
       "3                1  I purchased an Android Tesla style radio.\\nAft...\n",
       "4                1  They are an absolute con job dont waste your m...\n",
       "...            ...                                                ...\n",
       "11995            5             I'm happy with the out come. Thank you\n",
       "11996            5                                  Excellent quality\n",
       "11997            1  I ordered 6 items from AliExpress and two sell...\n",
       "11998            5  Great platform for doing business with vendors...\n",
       "11999            1  I have been satisfied by AliExpress until rece...\n",
       "\n",
       "[12000 rows x 2 columns]"
      ]
     },
     "execution_count": 6,
     "metadata": {},
     "output_type": "execute_result"
    }
   ],
   "source": [
    "reviews"
   ]
  },
  {
   "cell_type": "code",
   "execution_count": 7,
   "id": "8e4a4bac-4787-4ff4-98e3-86dfc3524c00",
   "metadata": {},
   "outputs": [
    {
     "data": {
      "text/plain": [
       "(12000, 2)"
      ]
     },
     "execution_count": 7,
     "metadata": {},
     "output_type": "execute_result"
    }
   ],
   "source": [
    "reviews.shape"
   ]
  },
  {
   "cell_type": "code",
   "execution_count": 8,
   "id": "ba929b02-49ae-498e-939e-d3b1c93bd0e2",
   "metadata": {},
   "outputs": [
    {
     "data": {
      "text/plain": [
       "1    6418\n",
       "5    4488\n",
       "2     412\n",
       "4     402\n",
       "3     280\n",
       "Name: StarRatings, dtype: int64"
      ]
     },
     "execution_count": 8,
     "metadata": {},
     "output_type": "execute_result"
    }
   ],
   "source": [
    "#check the number of unique star ratings \n",
    "star_rating_counts = reviews['StarRatings'].value_counts()\n",
    "star_rating_counts"
   ]
  },
  {
   "cell_type": "code",
   "execution_count": 9,
   "id": "4b41cb21-cd5d-48f1-944a-65f3e1faeabc",
   "metadata": {},
   "outputs": [
    {
     "data": {
      "text/plain": [
       "StarRatings      0\n",
       "Review         839\n",
       "dtype: int64"
      ]
     },
     "execution_count": 9,
     "metadata": {},
     "output_type": "execute_result"
    }
   ],
   "source": [
    "#View missing values\n",
    "reviews.isnull().sum()"
   ]
  },
  {
   "cell_type": "code",
   "execution_count": 10,
   "id": "c96a1b41-31f0-4dd6-b754-b0720c85d874",
   "metadata": {},
   "outputs": [],
   "source": [
    "#Investigate missing values\n",
    "#save them first\n",
    "missing = reviews[reviews[\"Review\"].isna()]"
   ]
  },
  {
   "cell_type": "code",
   "execution_count": null,
   "id": "916c4cf6-ef25-4d1c-b341-2c90162730a0",
   "metadata": {},
   "outputs": [],
   "source": []
  },
  {
   "cell_type": "code",
   "execution_count": 11,
   "id": "78267a05-e078-4222-ac00-593a1c8e6c69",
   "metadata": {},
   "outputs": [
    {
     "data": {
      "text/html": [
       "<div>\n",
       "<style scoped>\n",
       "    .dataframe tbody tr th:only-of-type {\n",
       "        vertical-align: middle;\n",
       "    }\n",
       "\n",
       "    .dataframe tbody tr th {\n",
       "        vertical-align: top;\n",
       "    }\n",
       "\n",
       "    .dataframe thead th {\n",
       "        text-align: right;\n",
       "    }\n",
       "</style>\n",
       "<table border=\"1\" class=\"dataframe\">\n",
       "  <thead>\n",
       "    <tr style=\"text-align: right;\">\n",
       "      <th></th>\n",
       "      <th>StarRatings</th>\n",
       "      <th>Review</th>\n",
       "    </tr>\n",
       "  </thead>\n",
       "  <tbody>\n",
       "    <tr>\n",
       "      <th>152</th>\n",
       "      <td>5</td>\n",
       "      <td>NaN</td>\n",
       "    </tr>\n",
       "    <tr>\n",
       "      <th>169</th>\n",
       "      <td>5</td>\n",
       "      <td>NaN</td>\n",
       "    </tr>\n",
       "    <tr>\n",
       "      <th>173</th>\n",
       "      <td>5</td>\n",
       "      <td>NaN</td>\n",
       "    </tr>\n",
       "    <tr>\n",
       "      <th>176</th>\n",
       "      <td>5</td>\n",
       "      <td>NaN</td>\n",
       "    </tr>\n",
       "    <tr>\n",
       "      <th>179</th>\n",
       "      <td>5</td>\n",
       "      <td>NaN</td>\n",
       "    </tr>\n",
       "    <tr>\n",
       "      <th>...</th>\n",
       "      <td>...</td>\n",
       "      <td>...</td>\n",
       "    </tr>\n",
       "    <tr>\n",
       "      <th>11976</th>\n",
       "      <td>5</td>\n",
       "      <td>NaN</td>\n",
       "    </tr>\n",
       "    <tr>\n",
       "      <th>11977</th>\n",
       "      <td>5</td>\n",
       "      <td>NaN</td>\n",
       "    </tr>\n",
       "    <tr>\n",
       "      <th>11982</th>\n",
       "      <td>5</td>\n",
       "      <td>NaN</td>\n",
       "    </tr>\n",
       "    <tr>\n",
       "      <th>11983</th>\n",
       "      <td>5</td>\n",
       "      <td>NaN</td>\n",
       "    </tr>\n",
       "    <tr>\n",
       "      <th>11994</th>\n",
       "      <td>5</td>\n",
       "      <td>NaN</td>\n",
       "    </tr>\n",
       "  </tbody>\n",
       "</table>\n",
       "<p>839 rows × 2 columns</p>\n",
       "</div>"
      ],
      "text/plain": [
       "       StarRatings Review\n",
       "152              5    NaN\n",
       "169              5    NaN\n",
       "173              5    NaN\n",
       "176              5    NaN\n",
       "179              5    NaN\n",
       "...            ...    ...\n",
       "11976            5    NaN\n",
       "11977            5    NaN\n",
       "11982            5    NaN\n",
       "11983            5    NaN\n",
       "11994            5    NaN\n",
       "\n",
       "[839 rows x 2 columns]"
      ]
     },
     "execution_count": 11,
     "metadata": {},
     "output_type": "execute_result"
    }
   ],
   "source": [
    "missing"
   ]
  },
  {
   "cell_type": "code",
   "execution_count": 12,
   "id": "932256c5-fb8a-4a1d-a9ee-42e2a3448331",
   "metadata": {},
   "outputs": [
    {
     "data": {
      "image/png": "[encoded data removed]",
      "text/plain": [
       "<Figure size 432x288 with 1 Axes>"
      ]
     },
     "metadata": {
      "needs_background": "light"
     },
     "output_type": "display_data"
    }
   ],
   "source": [
    "#histogram to see the count of ratings with missing values \n",
    "\n",
    "sns.countplot(data=missing, x='StarRatings')\n",
    "\n",
    "plt.title('Count of Different Star Ratings')\n",
    "plt.xlabel('Star Rating')\n",
    "plt.ylabel('Count')\n",
    "\n",
    "# Show the plot\n",
    "plt.show()"
   ]
  },
  {
   "cell_type": "code",
   "execution_count": 13,
   "id": "bd01b8c3-7b8e-42d8-8a08-acc432b98eaf",
   "metadata": {},
   "outputs": [
    {
     "data": {
      "text/plain": [
       "'Majority of the reviews with no comments are positive, fall under rating 5'"
      ]
     },
     "execution_count": 13,
     "metadata": {},
     "output_type": "execute_result"
    }
   ],
   "source": [
    "\"\"\"Majority of the reviews with no comments are positive, fall under rating 5\"\"\""
   ]
  },
  {
   "cell_type": "code",
   "execution_count": 13,
   "id": "2bbed698-722c-4ced-be33-bf738d68669c",
   "metadata": {},
   "outputs": [],
   "source": [
    "#replace empty cells for Review column with \"No review\"\n",
    "reviews[\"Review\"].fillna(\"No review\", inplace = True)"
   ]
  },
  {
   "cell_type": "code",
   "execution_count": 14,
   "id": "b97a88c5-7e51-4648-a26a-ecbe28dba6f8",
   "metadata": {},
   "outputs": [
    {
     "data": {
      "text/html": [
       "<div>\n",
       "<style scoped>\n",
       "    .dataframe tbody tr th:only-of-type {\n",
       "        vertical-align: middle;\n",
       "    }\n",
       "\n",
       "    .dataframe tbody tr th {\n",
       "        vertical-align: top;\n",
       "    }\n",
       "\n",
       "    .dataframe thead th {\n",
       "        text-align: right;\n",
       "    }\n",
       "</style>\n",
       "<table border=\"1\" class=\"dataframe\">\n",
       "  <thead>\n",
       "    <tr style=\"text-align: right;\">\n",
       "      <th></th>\n",
       "      <th>StarRatings</th>\n",
       "      <th>Review</th>\n",
       "    </tr>\n",
       "  </thead>\n",
       "  <tbody>\n",
       "    <tr>\n",
       "      <th>0</th>\n",
       "      <td>3</td>\n",
       "      <td>Aliexpress is easy to work with, but they fulf...</td>\n",
       "    </tr>\n",
       "    <tr>\n",
       "      <th>1</th>\n",
       "      <td>5</td>\n",
       "      <td>I have been using AliExpress for well over a y...</td>\n",
       "    </tr>\n",
       "    <tr>\n",
       "      <th>2</th>\n",
       "      <td>5</td>\n",
       "      <td>A good, customer-centric marketplace. But neve...</td>\n",
       "    </tr>\n",
       "    <tr>\n",
       "      <th>3</th>\n",
       "      <td>1</td>\n",
       "      <td>I purchased an Android Tesla style radio.\\nAft...</td>\n",
       "    </tr>\n",
       "    <tr>\n",
       "      <th>4</th>\n",
       "      <td>1</td>\n",
       "      <td>They are an absolute con job dont waste your m...</td>\n",
       "    </tr>\n",
       "    <tr>\n",
       "      <th>...</th>\n",
       "      <td>...</td>\n",
       "      <td>...</td>\n",
       "    </tr>\n",
       "    <tr>\n",
       "      <th>11995</th>\n",
       "      <td>5</td>\n",
       "      <td>I'm happy with the out come. Thank you</td>\n",
       "    </tr>\n",
       "    <tr>\n",
       "      <th>11996</th>\n",
       "      <td>5</td>\n",
       "      <td>Excellent quality</td>\n",
       "    </tr>\n",
       "    <tr>\n",
       "      <th>11997</th>\n",
       "      <td>1</td>\n",
       "      <td>I ordered 6 items from AliExpress and two sell...</td>\n",
       "    </tr>\n",
       "    <tr>\n",
       "      <th>11998</th>\n",
       "      <td>5</td>\n",
       "      <td>Great platform for doing business with vendors...</td>\n",
       "    </tr>\n",
       "    <tr>\n",
       "      <th>11999</th>\n",
       "      <td>1</td>\n",
       "      <td>I have been satisfied by AliExpress until rece...</td>\n",
       "    </tr>\n",
       "  </tbody>\n",
       "</table>\n",
       "<p>12000 rows × 2 columns</p>\n",
       "</div>"
      ],
      "text/plain": [
       "       StarRatings                                             Review\n",
       "0                3  Aliexpress is easy to work with, but they fulf...\n",
       "1                5  I have been using AliExpress for well over a y...\n",
       "2                5  A good, customer-centric marketplace. But neve...\n",
       "3                1  I purchased an Android Tesla style radio.\\nAft...\n",
       "4                1  They are an absolute con job dont waste your m...\n",
       "...            ...                                                ...\n",
       "11995            5             I'm happy with the out come. Thank you\n",
       "11996            5                                  Excellent quality\n",
       "11997            1  I ordered 6 items from AliExpress and two sell...\n",
       "11998            5  Great platform for doing business with vendors...\n",
       "11999            1  I have been satisfied by AliExpress until rece...\n",
       "\n",
       "[12000 rows x 2 columns]"
      ]
     },
     "execution_count": 14,
     "metadata": {},
     "output_type": "execute_result"
    }
   ],
   "source": [
    "reviews"
   ]
  },
  {
   "cell_type": "code",
   "execution_count": 15,
   "id": "6648d9bf-ee9a-4d10-9be8-8bdb594a62d5",
   "metadata": {},
   "outputs": [
    {
     "data": {
      "text/plain": [
       "StarRatings    0\n",
       "Review         0\n",
       "dtype: int64"
      ]
     },
     "execution_count": 15,
     "metadata": {},
     "output_type": "execute_result"
    }
   ],
   "source": [
    "reviews.isnull().sum()"
   ]
  },
  {
   "cell_type": "code",
   "execution_count": 16,
   "id": "b0f75f06-fe0d-4a89-8e63-3c2f75d1b759",
   "metadata": {},
   "outputs": [],
   "source": [
    "## Rank rating 0 - 1 (negative), 2-3 (neutral), 4-5(positive)\n",
    "def categorize_rating(StarRatings):\n",
    "    if  StarRatings >= 4:\n",
    "        return \"Positive\"\n",
    "    elif StarRatings  >= 2:\n",
    "        return \"Neutral\"   \n",
    "    else:\n",
    "        return \"Negative\""
   ]
  },
  {
   "cell_type": "code",
   "execution_count": null,
   "id": "0941c08b-3b58-4534-8b40-6238b927bda6",
   "metadata": {},
   "outputs": [],
   "source": []
  },
  {
   "cell_type": "code",
   "execution_count": 17,
   "id": "e4775a53-5a84-481f-85d6-a3360f118e04",
   "metadata": {},
   "outputs": [],
   "source": [
    "reviews[\"sentiment\"] = reviews[\"StarRatings\"].apply(categorize_rating)"
   ]
  },
  {
   "cell_type": "code",
   "execution_count": 18,
   "id": "71bb2882-ac28-4914-bf90-16d151e69545",
   "metadata": {},
   "outputs": [
    {
     "data": {
      "text/html": [
       "<div>\n",
       "<style scoped>\n",
       "    .dataframe tbody tr th:only-of-type {\n",
       "        vertical-align: middle;\n",
       "    }\n",
       "\n",
       "    .dataframe tbody tr th {\n",
       "        vertical-align: top;\n",
       "    }\n",
       "\n",
       "    .dataframe thead th {\n",
       "        text-align: right;\n",
       "    }\n",
       "</style>\n",
       "<table border=\"1\" class=\"dataframe\">\n",
       "  <thead>\n",
       "    <tr style=\"text-align: right;\">\n",
       "      <th></th>\n",
       "      <th>StarRatings</th>\n",
       "      <th>Review</th>\n",
       "      <th>sentiment</th>\n",
       "    </tr>\n",
       "  </thead>\n",
       "  <tbody>\n",
       "    <tr>\n",
       "      <th>0</th>\n",
       "      <td>3</td>\n",
       "      <td>Aliexpress is easy to work with, but they fulf...</td>\n",
       "      <td>Neutral</td>\n",
       "    </tr>\n",
       "    <tr>\n",
       "      <th>1</th>\n",
       "      <td>5</td>\n",
       "      <td>I have been using AliExpress for well over a y...</td>\n",
       "      <td>Positive</td>\n",
       "    </tr>\n",
       "    <tr>\n",
       "      <th>2</th>\n",
       "      <td>5</td>\n",
       "      <td>A good, customer-centric marketplace. But neve...</td>\n",
       "      <td>Positive</td>\n",
       "    </tr>\n",
       "    <tr>\n",
       "      <th>3</th>\n",
       "      <td>1</td>\n",
       "      <td>I purchased an Android Tesla style radio.\\nAft...</td>\n",
       "      <td>Negative</td>\n",
       "    </tr>\n",
       "    <tr>\n",
       "      <th>4</th>\n",
       "      <td>1</td>\n",
       "      <td>They are an absolute con job dont waste your m...</td>\n",
       "      <td>Negative</td>\n",
       "    </tr>\n",
       "    <tr>\n",
       "      <th>...</th>\n",
       "      <td>...</td>\n",
       "      <td>...</td>\n",
       "      <td>...</td>\n",
       "    </tr>\n",
       "    <tr>\n",
       "      <th>11995</th>\n",
       "      <td>5</td>\n",
       "      <td>I'm happy with the out come. Thank you</td>\n",
       "      <td>Positive</td>\n",
       "    </tr>\n",
       "    <tr>\n",
       "      <th>11996</th>\n",
       "      <td>5</td>\n",
       "      <td>Excellent quality</td>\n",
       "      <td>Positive</td>\n",
       "    </tr>\n",
       "    <tr>\n",
       "      <th>11997</th>\n",
       "      <td>1</td>\n",
       "      <td>I ordered 6 items from AliExpress and two sell...</td>\n",
       "      <td>Negative</td>\n",
       "    </tr>\n",
       "    <tr>\n",
       "      <th>11998</th>\n",
       "      <td>5</td>\n",
       "      <td>Great platform for doing business with vendors...</td>\n",
       "      <td>Positive</td>\n",
       "    </tr>\n",
       "    <tr>\n",
       "      <th>11999</th>\n",
       "      <td>1</td>\n",
       "      <td>I have been satisfied by AliExpress until rece...</td>\n",
       "      <td>Negative</td>\n",
       "    </tr>\n",
       "  </tbody>\n",
       "</table>\n",
       "<p>12000 rows × 3 columns</p>\n",
       "</div>"
      ],
      "text/plain": [
       "       StarRatings                                             Review  \\\n",
       "0                3  Aliexpress is easy to work with, but they fulf...   \n",
       "1                5  I have been using AliExpress for well over a y...   \n",
       "2                5  A good, customer-centric marketplace. But neve...   \n",
       "3                1  I purchased an Android Tesla style radio.\\nAft...   \n",
       "4                1  They are an absolute con job dont waste your m...   \n",
       "...            ...                                                ...   \n",
       "11995            5             I'm happy with the out come. Thank you   \n",
       "11996            5                                  Excellent quality   \n",
       "11997            1  I ordered 6 items from AliExpress and two sell...   \n",
       "11998            5  Great platform for doing business with vendors...   \n",
       "11999            1  I have been satisfied by AliExpress until rece...   \n",
       "\n",
       "      sentiment  \n",
       "0       Neutral  \n",
       "1      Positive  \n",
       "2      Positive  \n",
       "3      Negative  \n",
       "4      Negative  \n",
       "...         ...  \n",
       "11995  Positive  \n",
       "11996  Positive  \n",
       "11997  Negative  \n",
       "11998  Positive  \n",
       "11999  Negative  \n",
       "\n",
       "[12000 rows x 3 columns]"
      ]
     },
     "execution_count": 18,
     "metadata": {},
     "output_type": "execute_result"
    }
   ],
   "source": [
    "reviews"
   ]
  },
  {
   "cell_type": "code",
   "execution_count": 19,
   "id": "c6afbd3d-cc1b-4320-bee6-05dc17799731",
   "metadata": {},
   "outputs": [
    {
     "data": {
      "text/plain": [
       "Negative    6418\n",
       "Positive    4890\n",
       "Neutral      692\n",
       "Name: sentiment, dtype: int64"
      ]
     },
     "execution_count": 19,
     "metadata": {},
     "output_type": "execute_result"
    }
   ],
   "source": [
    "reviews[\"sentiment\"].value_counts()"
   ]
  },
  {
   "cell_type": "code",
   "execution_count": 20,
   "id": "5ad9158c-fa8c-4102-8fe0-70ab4cba207f",
   "metadata": {},
   "outputs": [
    {
     "data": {
      "image/png": "[encoded data removed]",
      "text/plain": [
       "<Figure size 432x288 with 1 Axes>"
      ]
     },
     "metadata": {
      "needs_background": "light"
     },
     "output_type": "display_data"
    }
   ],
   "source": [
    "sns.countplot(data =reviews, x='sentiment')\n",
    "\n",
    "plt.title('Count of Sentiments')\n",
    "plt.xlabel('Sentiment')\n",
    "plt.ylabel('Count')\n",
    "\n",
    "# Show the plot\n",
    "plt.show()"
   ]
  },
  {
   "cell_type": "code",
   "execution_count": 56,
   "id": "79f40b19-0393-46ad-ab1e-8c284ab9e85d",
   "metadata": {},
   "outputs": [],
   "source": [
    "#The plot shows that about 50% of the reviews given are negative, 40% are positive and less than 10% are neutral"
   ]
  },
  {
   "cell_type": "markdown",
   "id": "fe620d8b-499f-42b6-afaf-fad47d1c075e",
   "metadata": {},
   "source": [
    "### Text cleaning\n",
    "- Import relevant libraries and download stopwords from NLTK\n",
    "- Define the stop words\n",
    "- Define Function to clean the text\n",
    "- Apply the cleaning function to the 'Review' column\n",
    "- View the cleaned text"
   ]
  },
  {
   "cell_type": "code",
   "execution_count": 21,
   "id": "0d6bb553-14f3-4d9e-81fe-f3f844ce4a93",
   "metadata": {},
   "outputs": [
    {
     "name": "stderr",
     "output_type": "stream",
     "text": [
      "[nltk_data] Downloading package stopwords to\n",
      "[nltk_data]     /Users/chinuambajekwe/nltk_data...\n",
      "[nltk_data]   Package stopwords is already up-to-date!\n"
     ]
    },
    {
     "data": {
      "text/plain": [
       "True"
      ]
     },
     "execution_count": 21,
     "metadata": {},
     "output_type": "execute_result"
    }
   ],
   "source": [
    "import re                                  # re - Regular Expression, useful for text cleaning (e.g., removing special characters).\n",
    "import nltk                                # nltk - Natural Language Toolkit, a library used for natural language processing tasks like tokenization and stopword removal.\n",
    "from nltk.corpus import stopwords\n",
    "nltk.download('stopwords')"
   ]
  },
  {
   "cell_type": "markdown",
   "id": "c397cf45-03a0-46bb-a224-9ab998d8d198",
   "metadata": {},
   "source": [
    "### Define Function to clean text "
   ]
  },
  {
   "cell_type": "code",
   "execution_count": 22,
   "id": "103df495-6ec9-4a49-bb59-e2156c561de2",
   "metadata": {},
   "outputs": [],
   "source": [
    "# Define a variable that stores stopwords\n",
    "stop_words = set(stopwords.words(\"english\"))"
   ]
  },
  {
   "cell_type": "code",
   "execution_count": 23,
   "id": "ad690224-377a-44be-8cf6-db33270b7f19",
   "metadata": {},
   "outputs": [],
   "source": [
    "def clean_text(text):\n",
    "    # Remove special characters and numbers, keeping only letters and spaces\n",
    "    text = re.sub(r'[^a-zA-Z\\s]', '', text)                                              # This regex matches anything that is not a letter or space and replaces it with an empty string\n",
    "    # Convert text to lowercase to ensure uniformity\n",
    "    text = text.lower()                                                                  # This helps in reducing the complexity of the analysis by treating 'Word' and 'word' as the same\n",
    "    # Remove extra spaces between words\n",
    "    text = re.sub(r'\\s+', ' ', text).strip()                                             # This replaces multiple spaces with a single space and trims leading/trailing spaces\n",
    "    # Remove stop words (common words that may not add significant meaning to the text)\n",
    "    text = ' '.join([word for word in text.split() if word not in stop_words])  \n",
    "    return text\n"
   ]
  },
  {
   "cell_type": "code",
   "execution_count": 24,
   "id": "a9dc212e-9226-48be-9747-5be90740370d",
   "metadata": {},
   "outputs": [],
   "source": [
    "#Apply the function to the review column \n",
    "reviews[\"Review_cleaned\"]=reviews[\"Review\"].apply(clean_text)"
   ]
  },
  {
   "cell_type": "code",
   "execution_count": 61,
   "id": "c64e4c1b-cc4c-49c1-a760-e7685e3c65a3",
   "metadata": {},
   "outputs": [
    {
     "data": {
      "text/html": [
       "<div>\n",
       "<style scoped>\n",
       "    .dataframe tbody tr th:only-of-type {\n",
       "        vertical-align: middle;\n",
       "    }\n",
       "\n",
       "    .dataframe tbody tr th {\n",
       "        vertical-align: top;\n",
       "    }\n",
       "\n",
       "    .dataframe thead th {\n",
       "        text-align: right;\n",
       "    }\n",
       "</style>\n",
       "<table border=\"1\" class=\"dataframe\">\n",
       "  <thead>\n",
       "    <tr style=\"text-align: right;\">\n",
       "      <th></th>\n",
       "      <th>StarRatings</th>\n",
       "      <th>Review</th>\n",
       "      <th>sentiment</th>\n",
       "      <th>Review_cleaned</th>\n",
       "    </tr>\n",
       "  </thead>\n",
       "  <tbody>\n",
       "    <tr>\n",
       "      <th>0</th>\n",
       "      <td>3</td>\n",
       "      <td>Aliexpress is easy to work with, but they fulf...</td>\n",
       "      <td>Neutral</td>\n",
       "      <td>aliexpress easy work fulfill orders via rd par...</td>\n",
       "    </tr>\n",
       "    <tr>\n",
       "      <th>1</th>\n",
       "      <td>5</td>\n",
       "      <td>I have been using AliExpress for well over a y...</td>\n",
       "      <td>Positive</td>\n",
       "      <td>using aliexpress well year consistently impres...</td>\n",
       "    </tr>\n",
       "    <tr>\n",
       "      <th>2</th>\n",
       "      <td>5</td>\n",
       "      <td>A good, customer-centric marketplace. But neve...</td>\n",
       "      <td>Positive</td>\n",
       "      <td>good customercentric marketplace nevertheless ...</td>\n",
       "    </tr>\n",
       "    <tr>\n",
       "      <th>3</th>\n",
       "      <td>1</td>\n",
       "      <td>I purchased an Android Tesla style radio.\\nAft...</td>\n",
       "      <td>Negative</td>\n",
       "      <td>purchased android tesla style radio installed ...</td>\n",
       "    </tr>\n",
       "    <tr>\n",
       "      <th>4</th>\n",
       "      <td>1</td>\n",
       "      <td>They are an absolute con job dont waste your m...</td>\n",
       "      <td>Negative</td>\n",
       "      <td>absolute con job dont waste money scammers rec...</td>\n",
       "    </tr>\n",
       "    <tr>\n",
       "      <th>...</th>\n",
       "      <td>...</td>\n",
       "      <td>...</td>\n",
       "      <td>...</td>\n",
       "      <td>...</td>\n",
       "    </tr>\n",
       "    <tr>\n",
       "      <th>11995</th>\n",
       "      <td>5</td>\n",
       "      <td>I'm happy with the out come. Thank you</td>\n",
       "      <td>Positive</td>\n",
       "      <td>im happy come thank</td>\n",
       "    </tr>\n",
       "    <tr>\n",
       "      <th>11996</th>\n",
       "      <td>5</td>\n",
       "      <td>Excellent quality</td>\n",
       "      <td>Positive</td>\n",
       "      <td>excellent quality</td>\n",
       "    </tr>\n",
       "    <tr>\n",
       "      <th>11997</th>\n",
       "      <td>1</td>\n",
       "      <td>I ordered 6 items from AliExpress and two sell...</td>\n",
       "      <td>Negative</td>\n",
       "      <td>ordered items aliexpress two sellers cancelled...</td>\n",
       "    </tr>\n",
       "    <tr>\n",
       "      <th>11998</th>\n",
       "      <td>5</td>\n",
       "      <td>Great platform for doing business with vendors...</td>\n",
       "      <td>Positive</td>\n",
       "      <td>great platform business vendors would never ab...</td>\n",
       "    </tr>\n",
       "    <tr>\n",
       "      <th>11999</th>\n",
       "      <td>1</td>\n",
       "      <td>I have been satisfied by AliExpress until rece...</td>\n",
       "      <td>Negative</td>\n",
       "      <td>satisfied aliexpress recently however changed ...</td>\n",
       "    </tr>\n",
       "  </tbody>\n",
       "</table>\n",
       "<p>12000 rows × 4 columns</p>\n",
       "</div>"
      ],
      "text/plain": [
       "       StarRatings                                             Review  \\\n",
       "0                3  Aliexpress is easy to work with, but they fulf...   \n",
       "1                5  I have been using AliExpress for well over a y...   \n",
       "2                5  A good, customer-centric marketplace. But neve...   \n",
       "3                1  I purchased an Android Tesla style radio.\\nAft...   \n",
       "4                1  They are an absolute con job dont waste your m...   \n",
       "...            ...                                                ...   \n",
       "11995            5             I'm happy with the out come. Thank you   \n",
       "11996            5                                  Excellent quality   \n",
       "11997            1  I ordered 6 items from AliExpress and two sell...   \n",
       "11998            5  Great platform for doing business with vendors...   \n",
       "11999            1  I have been satisfied by AliExpress until rece...   \n",
       "\n",
       "      sentiment                                     Review_cleaned  \n",
       "0       Neutral  aliexpress easy work fulfill orders via rd par...  \n",
       "1      Positive  using aliexpress well year consistently impres...  \n",
       "2      Positive  good customercentric marketplace nevertheless ...  \n",
       "3      Negative  purchased android tesla style radio installed ...  \n",
       "4      Negative  absolute con job dont waste money scammers rec...  \n",
       "...         ...                                                ...  \n",
       "11995  Positive                                im happy come thank  \n",
       "11996  Positive                                  excellent quality  \n",
       "11997  Negative  ordered items aliexpress two sellers cancelled...  \n",
       "11998  Positive  great platform business vendors would never ab...  \n",
       "11999  Negative  satisfied aliexpress recently however changed ...  \n",
       "\n",
       "[12000 rows x 4 columns]"
      ]
     },
     "execution_count": 61,
     "metadata": {},
     "output_type": "execute_result"
    }
   ],
   "source": [
    "reviews"
   ]
  },
  {
   "cell_type": "markdown",
   "id": "8b31c6c5-4db3-4f36-b008-b907bdff9990",
   "metadata": {},
   "source": [
    "## Tokenization - Initialize tokens which breaks down sentences into words"
   ]
  },
  {
   "cell_type": "code",
   "execution_count": 25,
   "id": "1ad21976-bbca-4a14-8d85-62bce0bfacf6",
   "metadata": {},
   "outputs": [
    {
     "name": "stderr",
     "output_type": "stream",
     "text": [
      "[nltk_data] Downloading package punkt to\n",
      "[nltk_data]     /Users/chinuambajekwe/nltk_data...\n",
      "[nltk_data]   Package punkt is already up-to-date!\n"
     ]
    },
    {
     "data": {
      "text/plain": [
       "True"
      ]
     },
     "execution_count": 25,
     "metadata": {},
     "output_type": "execute_result"
    }
   ],
   "source": [
    "# Import tokenize libraries and download punkt from NLTK\n",
    "from nltk.tokenize import word_tokenize\n",
    "nltk.download('punkt')"
   ]
  },
  {
   "cell_type": "code",
   "execution_count": 26,
   "id": "0ee88262-5acb-4741-ac6e-43b5fe4b0b97",
   "metadata": {},
   "outputs": [],
   "source": [
    "sample_text= reviews[\"Review_cleaned\"].iloc[20]"
   ]
  },
  {
   "cell_type": "code",
   "execution_count": 27,
   "id": "6a6a8c4f-994a-4a17-bea7-777451a12880",
   "metadata": {},
   "outputs": [],
   "source": [
    "token = word_tokenize(sample_text)"
   ]
  },
  {
   "cell_type": "code",
   "execution_count": 28,
   "id": "573b0f5a-7cfb-41d1-ad4a-d572777661fa",
   "metadata": {},
   "outputs": [
    {
     "data": {
      "text/plain": [
       "['bought',\n",
       " 'lighting',\n",
       " 'zimulongflagship',\n",
       " 'aliexpress',\n",
       " 'received',\n",
       " 'half',\n",
       " 'product',\n",
       " 'trying',\n",
       " 'communicate',\n",
       " 'ever',\n",
       " 'since',\n",
       " 'impossible',\n",
       " 'also',\n",
       " 'soolala',\n",
       " 'ordered',\n",
       " 'glasses',\n",
       " 'never',\n",
       " 'arrived',\n",
       " 'never',\n",
       " 'received',\n",
       " 'refund',\n",
       " 'avoid',\n",
       " 'company']"
      ]
     },
     "execution_count": 28,
     "metadata": {},
     "output_type": "execute_result"
    }
   ],
   "source": [
    "token"
   ]
  },
  {
   "cell_type": "code",
   "execution_count": null,
   "id": "8e3d499e-31d4-4bf3-b5c6-5980f52a20d3",
   "metadata": {},
   "outputs": [],
   "source": []
  },
  {
   "cell_type": "code",
   "execution_count": 29,
   "id": "de06d92e-9457-4a50-8d69-1556f10b4e58",
   "metadata": {},
   "outputs": [],
   "source": [
    "#apply the tokenize function to review_cleaned column \n",
    "reviews[\"Review_tokens\"] = reviews[\"Review_cleaned\"].apply(word_tokenize)"
   ]
  },
  {
   "cell_type": "code",
   "execution_count": 30,
   "id": "594b60e0-4799-4393-8d58-75e42a57f220",
   "metadata": {},
   "outputs": [
    {
     "data": {
      "text/html": [
       "<div>\n",
       "<style scoped>\n",
       "    .dataframe tbody tr th:only-of-type {\n",
       "        vertical-align: middle;\n",
       "    }\n",
       "\n",
       "    .dataframe tbody tr th {\n",
       "        vertical-align: top;\n",
       "    }\n",
       "\n",
       "    .dataframe thead th {\n",
       "        text-align: right;\n",
       "    }\n",
       "</style>\n",
       "<table border=\"1\" class=\"dataframe\">\n",
       "  <thead>\n",
       "    <tr style=\"text-align: right;\">\n",
       "      <th></th>\n",
       "      <th>StarRatings</th>\n",
       "      <th>Review</th>\n",
       "      <th>sentiment</th>\n",
       "      <th>Review_cleaned</th>\n",
       "      <th>Review_tokens</th>\n",
       "    </tr>\n",
       "  </thead>\n",
       "  <tbody>\n",
       "    <tr>\n",
       "      <th>0</th>\n",
       "      <td>3</td>\n",
       "      <td>Aliexpress is easy to work with, but they fulf...</td>\n",
       "      <td>Neutral</td>\n",
       "      <td>aliexpress easy work fulfill orders via rd par...</td>\n",
       "      <td>[aliexpress, easy, work, fulfill, orders, via,...</td>\n",
       "    </tr>\n",
       "    <tr>\n",
       "      <th>1</th>\n",
       "      <td>5</td>\n",
       "      <td>I have been using AliExpress for well over a y...</td>\n",
       "      <td>Positive</td>\n",
       "      <td>using aliexpress well year consistently impres...</td>\n",
       "      <td>[using, aliexpress, well, year, consistently, ...</td>\n",
       "    </tr>\n",
       "    <tr>\n",
       "      <th>2</th>\n",
       "      <td>5</td>\n",
       "      <td>A good, customer-centric marketplace. But neve...</td>\n",
       "      <td>Positive</td>\n",
       "      <td>good customercentric marketplace nevertheless ...</td>\n",
       "      <td>[good, customercentric, marketplace, neverthel...</td>\n",
       "    </tr>\n",
       "    <tr>\n",
       "      <th>3</th>\n",
       "      <td>1</td>\n",
       "      <td>I purchased an Android Tesla style radio.\\nAft...</td>\n",
       "      <td>Negative</td>\n",
       "      <td>purchased android tesla style radio installed ...</td>\n",
       "      <td>[purchased, android, tesla, style, radio, inst...</td>\n",
       "    </tr>\n",
       "    <tr>\n",
       "      <th>4</th>\n",
       "      <td>1</td>\n",
       "      <td>They are an absolute con job dont waste your m...</td>\n",
       "      <td>Negative</td>\n",
       "      <td>absolute con job dont waste money scammers rec...</td>\n",
       "      <td>[absolute, con, job, dont, waste, money, scamm...</td>\n",
       "    </tr>\n",
       "    <tr>\n",
       "      <th>...</th>\n",
       "      <td>...</td>\n",
       "      <td>...</td>\n",
       "      <td>...</td>\n",
       "      <td>...</td>\n",
       "      <td>...</td>\n",
       "    </tr>\n",
       "    <tr>\n",
       "      <th>11995</th>\n",
       "      <td>5</td>\n",
       "      <td>I'm happy with the out come. Thank you</td>\n",
       "      <td>Positive</td>\n",
       "      <td>im happy come thank</td>\n",
       "      <td>[im, happy, come, thank]</td>\n",
       "    </tr>\n",
       "    <tr>\n",
       "      <th>11996</th>\n",
       "      <td>5</td>\n",
       "      <td>Excellent quality</td>\n",
       "      <td>Positive</td>\n",
       "      <td>excellent quality</td>\n",
       "      <td>[excellent, quality]</td>\n",
       "    </tr>\n",
       "    <tr>\n",
       "      <th>11997</th>\n",
       "      <td>1</td>\n",
       "      <td>I ordered 6 items from AliExpress and two sell...</td>\n",
       "      <td>Negative</td>\n",
       "      <td>ordered items aliexpress two sellers cancelled...</td>\n",
       "      <td>[ordered, items, aliexpress, two, sellers, can...</td>\n",
       "    </tr>\n",
       "    <tr>\n",
       "      <th>11998</th>\n",
       "      <td>5</td>\n",
       "      <td>Great platform for doing business with vendors...</td>\n",
       "      <td>Positive</td>\n",
       "      <td>great platform business vendors would never ab...</td>\n",
       "      <td>[great, platform, business, vendors, would, ne...</td>\n",
       "    </tr>\n",
       "    <tr>\n",
       "      <th>11999</th>\n",
       "      <td>1</td>\n",
       "      <td>I have been satisfied by AliExpress until rece...</td>\n",
       "      <td>Negative</td>\n",
       "      <td>satisfied aliexpress recently however changed ...</td>\n",
       "      <td>[satisfied, aliexpress, recently, however, cha...</td>\n",
       "    </tr>\n",
       "  </tbody>\n",
       "</table>\n",
       "<p>12000 rows × 5 columns</p>\n",
       "</div>"
      ],
      "text/plain": [
       "       StarRatings                                             Review  \\\n",
       "0                3  Aliexpress is easy to work with, but they fulf...   \n",
       "1                5  I have been using AliExpress for well over a y...   \n",
       "2                5  A good, customer-centric marketplace. But neve...   \n",
       "3                1  I purchased an Android Tesla style radio.\\nAft...   \n",
       "4                1  They are an absolute con job dont waste your m...   \n",
       "...            ...                                                ...   \n",
       "11995            5             I'm happy with the out come. Thank you   \n",
       "11996            5                                  Excellent quality   \n",
       "11997            1  I ordered 6 items from AliExpress and two sell...   \n",
       "11998            5  Great platform for doing business with vendors...   \n",
       "11999            1  I have been satisfied by AliExpress until rece...   \n",
       "\n",
       "      sentiment                                     Review_cleaned  \\\n",
       "0       Neutral  aliexpress easy work fulfill orders via rd par...   \n",
       "1      Positive  using aliexpress well year consistently impres...   \n",
       "2      Positive  good customercentric marketplace nevertheless ...   \n",
       "3      Negative  purchased android tesla style radio installed ...   \n",
       "4      Negative  absolute con job dont waste money scammers rec...   \n",
       "...         ...                                                ...   \n",
       "11995  Positive                                im happy come thank   \n",
       "11996  Positive                                  excellent quality   \n",
       "11997  Negative  ordered items aliexpress two sellers cancelled...   \n",
       "11998  Positive  great platform business vendors would never ab...   \n",
       "11999  Negative  satisfied aliexpress recently however changed ...   \n",
       "\n",
       "                                           Review_tokens  \n",
       "0      [aliexpress, easy, work, fulfill, orders, via,...  \n",
       "1      [using, aliexpress, well, year, consistently, ...  \n",
       "2      [good, customercentric, marketplace, neverthel...  \n",
       "3      [purchased, android, tesla, style, radio, inst...  \n",
       "4      [absolute, con, job, dont, waste, money, scamm...  \n",
       "...                                                  ...  \n",
       "11995                           [im, happy, come, thank]  \n",
       "11996                               [excellent, quality]  \n",
       "11997  [ordered, items, aliexpress, two, sellers, can...  \n",
       "11998  [great, platform, business, vendors, would, ne...  \n",
       "11999  [satisfied, aliexpress, recently, however, cha...  \n",
       "\n",
       "[12000 rows x 5 columns]"
      ]
     },
     "execution_count": 30,
     "metadata": {},
     "output_type": "execute_result"
    }
   ],
   "source": [
    "reviews"
   ]
  },
  {
   "cell_type": "markdown",
   "id": "95f2eac8-846a-42bb-9c44-88bfa986e27d",
   "metadata": {},
   "source": [
    "### 3. Feature Engineering\n",
    "- Bag of Words Vectors (BoW)\n",
    "- TF-IDF - Term Frequency-Inverse Document Frequency\n",
    "- Data Splitting"
   ]
  },
  {
   "cell_type": "markdown",
   "id": "d20e867f-bea8-4aa2-be6b-f01ccc1f894a",
   "metadata": {},
   "source": [
    "`Bag of Words Vectors (BoW): Convert text into a matrix of token counts using CountVectorizer from sklearn.`\n",
    "- Import the relevant libraries\n",
    "- Initialize the CountVectorizer (BoW)\n",
    "- Apply BoW to the 'Cleaned_Feedback_translated' column\n",
    "- Check the shape of the BoW feature matrix"
   ]
  },
  {
   "cell_type": "code",
   "execution_count": 42,
   "id": "cffc47c4-9f83-49a3-836d-84fbac620081",
   "metadata": {},
   "outputs": [],
   "source": [
    "# import the relevant libraries\n",
    "from sklearn.feature_extraction.text import CountVectorizer"
   ]
  },
  {
   "cell_type": "code",
   "execution_count": 43,
   "id": "5b92ad20-2f23-4398-a72a-f5f9177df0dd",
   "metadata": {},
   "outputs": [],
   "source": [
    "# Initialize the CountVectorizer (BoW)\n",
    "bow_vectorizer = CountVectorizer()"
   ]
  },
  {
   "cell_type": "code",
   "execution_count": 44,
   "id": "f0b44ba2-e438-4dca-8cd4-664ac12261ea",
   "metadata": {},
   "outputs": [],
   "source": [
    "# Apply BoW to the 'Cleaned Review' column\n",
    "bow_matrix = bow_vectorizer.fit_transform(reviews[\"Review_cleaned\"])"
   ]
  },
  {
   "cell_type": "code",
   "execution_count": 45,
   "id": "1799bddb-ec43-4fd1-98e4-95eeeca8b981",
   "metadata": {},
   "outputs": [
    {
     "data": {
      "text/plain": [
       "(12000, 21488)"
      ]
     },
     "execution_count": 45,
     "metadata": {},
     "output_type": "execute_result"
    }
   ],
   "source": [
    "# Check the shape of the BoW feature matrix\n",
    "bow_matrix.shape"
   ]
  },
  {
   "cell_type": "code",
   "execution_count": null,
   "id": "2aee24b0-fbc5-4c13-99f1-76ed64f94db6",
   "metadata": {},
   "outputs": [],
   "source": []
  },
  {
   "cell_type": "markdown",
   "id": "277b10e2-90a3-40df-8c6c-529cc8ce9a72",
   "metadata": {},
   "source": [
    "`TF-IDF - Term Frequency-Inverse Document Frequency: Use TfidfVectorizer to account for word frequency while downweighting common words that appear in many feedback reviews.`\n",
    "- Import the relevant libraries\n",
    "- Initialize the TfidfVectorizer\n",
    "- Apply TF-IDF to the 'Cleaned_Feedback_translated' column\n",
    "- Check the shape of the TF-IDF feature matrix"
   ]
  },
  {
   "cell_type": "markdown",
   "id": "42c3f8a2-0e79-4f7a-8d5f-702e40b61cc8",
   "metadata": {},
   "source": []
  },
  {
   "cell_type": "code",
   "execution_count": 46,
   "id": "1a6a465d-2851-4578-b8a7-6bd6093f5138",
   "metadata": {},
   "outputs": [],
   "source": [
    "# Import the relevant libraries\n",
    "from sklearn.feature_extraction.text import TfidfVectorizer"
   ]
  },
  {
   "cell_type": "code",
   "execution_count": 47,
   "id": "09948e13-c85a-4cd4-8dcb-38292b67eddb",
   "metadata": {},
   "outputs": [],
   "source": [
    "# Initialize the TfidfVectorizer\n",
    "tfidf_vectorizer = TfidfVectorizer()"
   ]
  },
  {
   "cell_type": "code",
   "execution_count": 48,
   "id": "1c47584c-d7a9-4944-8afb-306da0d401ac",
   "metadata": {},
   "outputs": [],
   "source": [
    "tfidf_matrix = tfidf_vectorizer.fit_transform(reviews[\"Review_cleaned\"])"
   ]
  },
  {
   "cell_type": "code",
   "execution_count": 49,
   "id": "fc6a93c0-f6a6-4d3f-973b-0ad9b8104a55",
   "metadata": {},
   "outputs": [
    {
     "data": {
      "text/plain": [
       "(12000, 21488)"
      ]
     },
     "execution_count": 49,
     "metadata": {},
     "output_type": "execute_result"
    }
   ],
   "source": [
    "# Check the shape of the TF-IDF feature matrix\n",
    "tfidf_matrix.shape  "
   ]
  },
  {
   "cell_type": "code",
   "execution_count": 79,
   "id": "4a3ba9a5-3e4b-499c-8efe-acaeb3822026",
   "metadata": {},
   "outputs": [],
   "source": [
    "## Splitting the data into test and training set"
   ]
  },
  {
   "cell_type": "code",
   "execution_count": 50,
   "id": "3118645b-3fc5-4408-8b61-04bc69a0c43a",
   "metadata": {},
   "outputs": [],
   "source": [
    "from sklearn.model_selection import train_test_split"
   ]
  },
  {
   "cell_type": "code",
   "execution_count": 62,
   "id": "37718563-513d-4f73-b1b4-98bed8be26e9",
   "metadata": {},
   "outputs": [],
   "source": [
    "# BoW Train-Test Split\n",
    "X_train_bow,X_test_bow,y_train,y_test = train_test_split(bow_matrix, reviews[\"sentiment\"], \n",
    "                                                                 test_size = 0.2, random_state = 42)"
   ]
  },
  {
   "cell_type": "code",
   "execution_count": 63,
   "id": "6e892eea-6c3f-4584-835e-4272e93f05f8",
   "metadata": {},
   "outputs": [],
   "source": [
    "## TF-IDF Train-Test Split\n",
    "X_train_tfidf,X_test_tfidf,y_train,y_test = train_test_split(tfidf_matrix, reviews[\"sentiment\"], \n",
    "                                                                 test_size = 0.2, random_state = 42)"
   ]
  },
  {
   "cell_type": "markdown",
   "id": "ffc96626-d3c7-4250-a6c9-bea564f81986",
   "metadata": {},
   "source": [
    "### 4. Model Building "
   ]
  },
  {
   "cell_type": "markdown",
   "id": "bbf3fa2d-82f2-4d32-8942-1ecb9076a180",
   "metadata": {},
   "source": [
    "`Pre-trained VADER Model` - `VADER: Valence Aware Dictionary and sentiment Reasoner is a pre-trained sentiment analysis tool designed to analyze text for sentiment polarity and intensity, particularly effective for social media and short texts. It uses a lexicon of sentiment related words and rules to score and classify text as positive, negative, or neutral.`\n",
    "- Import relevant Libraries and download 'vader_lexicon' from NLTK\n",
    "- Initialize the VADER sentiment analyzer\n",
    "- Create a Function to calculate sentiment score using VADER\n",
    "- Apply VADER sentiment analysis to the Cleaned_Feedback_translated column"
   ]
  },
  {
   "cell_type": "code",
   "execution_count": 64,
   "id": "5fe5842c-2d25-49a8-88a7-8c9d3a0143f0",
   "metadata": {},
   "outputs": [
    {
     "name": "stderr",
     "output_type": "stream",
     "text": [
      "[nltk_data] Downloading package vader_lexicon to\n",
      "[nltk_data]     /Users/chinuambajekwe/nltk_data...\n",
      "[nltk_data]   Package vader_lexicon is already up-to-date!\n"
     ]
    },
    {
     "data": {
      "text/plain": [
       "True"
      ]
     },
     "execution_count": 64,
     "metadata": {},
     "output_type": "execute_result"
    }
   ],
   "source": [
    "# Import relevant Libraries and download 'vader_lexicon' from NLTK\n",
    "from nltk.sentiment.vader import SentimentIntensityAnalyzer\n",
    "nltk.download('vader_lexicon')"
   ]
  },
  {
   "cell_type": "code",
   "execution_count": 65,
   "id": "340f3171-c877-4a91-8726-e9b84a3a6d4f",
   "metadata": {},
   "outputs": [],
   "source": [
    "# Initialize the VADER sentiment analyzer\n",
    "vader_analyzer = SentimentIntensityAnalyzer()"
   ]
  },
  {
   "cell_type": "code",
   "execution_count": 66,
   "id": "86e119fb-86b3-4e81-94ef-02378440ded1",
   "metadata": {},
   "outputs": [],
   "source": [
    "text = \"I hate winter\""
   ]
  },
  {
   "cell_type": "code",
   "execution_count": 67,
   "id": "33b4229a-b662-41ed-af99-df04dd2d069c",
   "metadata": {},
   "outputs": [
    {
     "data": {
      "text/plain": [
       "{'neg': 0.787, 'neu': 0.213, 'pos': 0.0, 'compound': -0.5719}"
      ]
     },
     "execution_count": 67,
     "metadata": {},
     "output_type": "execute_result"
    }
   ],
   "source": [
    "vader_analyzer.polarity_scores(text)"
   ]
  },
  {
   "cell_type": "code",
   "execution_count": 87,
   "id": "3617b80f-013f-4ede-96e0-65c0706656c9",
   "metadata": {},
   "outputs": [],
   "source": [
    "# Create a Function to calculate sentiment score using VADER\n",
    "def vader_sentiment(text):\n",
    "    # Get VADER compound score\n",
    "    sentiment_score = vader_analyzer.polarity_scores(text)['compound']\n",
    "    \n",
    "    # Map compound score to 3 rating categories\n",
    "    if sentiment_score <= -0.02:\n",
    "        return \"Negative\"\n",
    "    elif sentiment_score <= 0.02:\n",
    "        return \"Neutral\"\n",
    "    else:\n",
    "        return \"Positive\""
   ]
  },
  {
   "cell_type": "code",
   "execution_count": 88,
   "id": "3c764941-5d79-465d-a496-d3828859000d",
   "metadata": {},
   "outputs": [],
   "source": [
    "# Apply VADER sentiment scores to the cleaned review  column\n",
    "reviews[\"vader_sentiment\"] = reviews[\"Review_cleaned\"].apply(vader_sentiment)"
   ]
  },
  {
   "cell_type": "code",
   "execution_count": 89,
   "id": "5263bca8-2d30-4d80-8cc2-b8dbff0f6b3c",
   "metadata": {},
   "outputs": [
    {
     "data": {
      "text/html": [
       "<div>\n",
       "<style scoped>\n",
       "    .dataframe tbody tr th:only-of-type {\n",
       "        vertical-align: middle;\n",
       "    }\n",
       "\n",
       "    .dataframe tbody tr th {\n",
       "        vertical-align: top;\n",
       "    }\n",
       "\n",
       "    .dataframe thead th {\n",
       "        text-align: right;\n",
       "    }\n",
       "</style>\n",
       "<table border=\"1\" class=\"dataframe\">\n",
       "  <thead>\n",
       "    <tr style=\"text-align: right;\">\n",
       "      <th></th>\n",
       "      <th>StarRatings</th>\n",
       "      <th>Review</th>\n",
       "      <th>sentiment</th>\n",
       "      <th>Review_cleaned</th>\n",
       "      <th>Review_tokens</th>\n",
       "      <th>vader_sentiment</th>\n",
       "    </tr>\n",
       "  </thead>\n",
       "  <tbody>\n",
       "    <tr>\n",
       "      <th>0</th>\n",
       "      <td>3</td>\n",
       "      <td>Aliexpress is easy to work with, but they fulf...</td>\n",
       "      <td>Neutral</td>\n",
       "      <td>aliexpress easy work fulfill orders via rd par...</td>\n",
       "      <td>[aliexpress, easy, work, fulfill, orders, via,...</td>\n",
       "      <td>Positive</td>\n",
       "    </tr>\n",
       "    <tr>\n",
       "      <th>1</th>\n",
       "      <td>5</td>\n",
       "      <td>I have been using AliExpress for well over a y...</td>\n",
       "      <td>Positive</td>\n",
       "      <td>using aliexpress well year consistently impres...</td>\n",
       "      <td>[using, aliexpress, well, year, consistently, ...</td>\n",
       "      <td>Positive</td>\n",
       "    </tr>\n",
       "    <tr>\n",
       "      <th>2</th>\n",
       "      <td>5</td>\n",
       "      <td>A good, customer-centric marketplace. But neve...</td>\n",
       "      <td>Positive</td>\n",
       "      <td>good customercentric marketplace nevertheless ...</td>\n",
       "      <td>[good, customercentric, marketplace, neverthel...</td>\n",
       "      <td>Positive</td>\n",
       "    </tr>\n",
       "    <tr>\n",
       "      <th>3</th>\n",
       "      <td>1</td>\n",
       "      <td>I purchased an Android Tesla style radio.\\nAft...</td>\n",
       "      <td>Negative</td>\n",
       "      <td>purchased android tesla style radio installed ...</td>\n",
       "      <td>[purchased, android, tesla, style, radio, inst...</td>\n",
       "      <td>Positive</td>\n",
       "    </tr>\n",
       "    <tr>\n",
       "      <th>4</th>\n",
       "      <td>1</td>\n",
       "      <td>They are an absolute con job dont waste your m...</td>\n",
       "      <td>Negative</td>\n",
       "      <td>absolute con job dont waste money scammers rec...</td>\n",
       "      <td>[absolute, con, job, dont, waste, money, scamm...</td>\n",
       "      <td>Positive</td>\n",
       "    </tr>\n",
       "    <tr>\n",
       "      <th>...</th>\n",
       "      <td>...</td>\n",
       "      <td>...</td>\n",
       "      <td>...</td>\n",
       "      <td>...</td>\n",
       "      <td>...</td>\n",
       "      <td>...</td>\n",
       "    </tr>\n",
       "    <tr>\n",
       "      <th>11995</th>\n",
       "      <td>5</td>\n",
       "      <td>I'm happy with the out come. Thank you</td>\n",
       "      <td>Positive</td>\n",
       "      <td>im happy come thank</td>\n",
       "      <td>[im, happy, come, thank]</td>\n",
       "      <td>Positive</td>\n",
       "    </tr>\n",
       "    <tr>\n",
       "      <th>11996</th>\n",
       "      <td>5</td>\n",
       "      <td>Excellent quality</td>\n",
       "      <td>Positive</td>\n",
       "      <td>excellent quality</td>\n",
       "      <td>[excellent, quality]</td>\n",
       "      <td>Positive</td>\n",
       "    </tr>\n",
       "    <tr>\n",
       "      <th>11997</th>\n",
       "      <td>1</td>\n",
       "      <td>I ordered 6 items from AliExpress and two sell...</td>\n",
       "      <td>Negative</td>\n",
       "      <td>ordered items aliexpress two sellers cancelled...</td>\n",
       "      <td>[ordered, items, aliexpress, two, sellers, can...</td>\n",
       "      <td>Negative</td>\n",
       "    </tr>\n",
       "    <tr>\n",
       "      <th>11998</th>\n",
       "      <td>5</td>\n",
       "      <td>Great platform for doing business with vendors...</td>\n",
       "      <td>Positive</td>\n",
       "      <td>great platform business vendors would never ab...</td>\n",
       "      <td>[great, platform, business, vendors, would, ne...</td>\n",
       "      <td>Positive</td>\n",
       "    </tr>\n",
       "    <tr>\n",
       "      <th>11999</th>\n",
       "      <td>1</td>\n",
       "      <td>I have been satisfied by AliExpress until rece...</td>\n",
       "      <td>Negative</td>\n",
       "      <td>satisfied aliexpress recently however changed ...</td>\n",
       "      <td>[satisfied, aliexpress, recently, however, cha...</td>\n",
       "      <td>Negative</td>\n",
       "    </tr>\n",
       "  </tbody>\n",
       "</table>\n",
       "<p>12000 rows × 6 columns</p>\n",
       "</div>"
      ],
      "text/plain": [
       "       StarRatings                                             Review  \\\n",
       "0                3  Aliexpress is easy to work with, but they fulf...   \n",
       "1                5  I have been using AliExpress for well over a y...   \n",
       "2                5  A good, customer-centric marketplace. But neve...   \n",
       "3                1  I purchased an Android Tesla style radio.\\nAft...   \n",
       "4                1  They are an absolute con job dont waste your m...   \n",
       "...            ...                                                ...   \n",
       "11995            5             I'm happy with the out come. Thank you   \n",
       "11996            5                                  Excellent quality   \n",
       "11997            1  I ordered 6 items from AliExpress and two sell...   \n",
       "11998            5  Great platform for doing business with vendors...   \n",
       "11999            1  I have been satisfied by AliExpress until rece...   \n",
       "\n",
       "      sentiment                                     Review_cleaned  \\\n",
       "0       Neutral  aliexpress easy work fulfill orders via rd par...   \n",
       "1      Positive  using aliexpress well year consistently impres...   \n",
       "2      Positive  good customercentric marketplace nevertheless ...   \n",
       "3      Negative  purchased android tesla style radio installed ...   \n",
       "4      Negative  absolute con job dont waste money scammers rec...   \n",
       "...         ...                                                ...   \n",
       "11995  Positive                                im happy come thank   \n",
       "11996  Positive                                  excellent quality   \n",
       "11997  Negative  ordered items aliexpress two sellers cancelled...   \n",
       "11998  Positive  great platform business vendors would never ab...   \n",
       "11999  Negative  satisfied aliexpress recently however changed ...   \n",
       "\n",
       "                                           Review_tokens vader_sentiment  \n",
       "0      [aliexpress, easy, work, fulfill, orders, via,...        Positive  \n",
       "1      [using, aliexpress, well, year, consistently, ...        Positive  \n",
       "2      [good, customercentric, marketplace, neverthel...        Positive  \n",
       "3      [purchased, android, tesla, style, radio, inst...        Positive  \n",
       "4      [absolute, con, job, dont, waste, money, scamm...        Positive  \n",
       "...                                                  ...             ...  \n",
       "11995                           [im, happy, come, thank]        Positive  \n",
       "11996                               [excellent, quality]        Positive  \n",
       "11997  [ordered, items, aliexpress, two, sellers, can...        Negative  \n",
       "11998  [great, platform, business, vendors, would, ne...        Positive  \n",
       "11999  [satisfied, aliexpress, recently, however, cha...        Negative  \n",
       "\n",
       "[12000 rows x 6 columns]"
      ]
     },
     "execution_count": 89,
     "metadata": {},
     "output_type": "execute_result"
    }
   ],
   "source": [
    "reviews"
   ]
  },
  {
   "cell_type": "code",
   "execution_count": 86,
   "id": "91dcd555-1e7e-42ae-99c5-34c1614ec149",
   "metadata": {},
   "outputs": [
    {
     "data": {
      "text/plain": [
       "Positive    5525\n",
       "Negative    4722\n",
       "Neutral     1753\n",
       "Name: vader_sentiment, dtype: int64"
      ]
     },
     "execution_count": 86,
     "metadata": {},
     "output_type": "execute_result"
    }
   ],
   "source": [
    "reviews[\"vader_sentiment\"].value_counts()"
   ]
  },
  {
   "cell_type": "markdown",
   "id": "2677298c-4c90-4a1f-b5cd-4e58943d13e3",
   "metadata": {},
   "source": [
    "`Custom Models`:\n",
    "`Naive Bayes Model` - preferred for sentiment analysis due to its simplicity, speed, and effectiveness in handling high-dimensional text data, like BoW or TF-IDF features.\n",
    "- Import relevant Libraries\n",
    "- Initialize and Train the Naive Bayes model (BoW and TF-IDF)\n",
    "- Make predictions on the test set (BoW and TF-IDF)\n",
    "- Transform the cleaned feedback translated into numerical feature representations: Bag of Words format using fitted CountVectorizer and TF-IDF format using fitted TfidfVectorizer.\n",
    "- Predict sentiments using the Naive Bayes model for both Bag of Words and TF-IDF features, and update the Cleaned_ecomm_review DataFrame with the new sentiment predictions in 'BoW' and 'TF-IDF' columns. "
   ]
  },
  {
   "cell_type": "code",
   "execution_count": 90,
   "id": "39d2c952-d4a1-43bc-a4e9-faddc4f415ec",
   "metadata": {},
   "outputs": [],
   "source": [
    "# Import relevant Libraries\n",
    "from sklearn.naive_bayes import MultinomialNB"
   ]
  },
  {
   "cell_type": "code",
   "execution_count": 92,
   "id": "64428b7d-ccd1-4509-b061-5abcdc2a6050",
   "metadata": {},
   "outputs": [],
   "source": [
    "# Initialize and Train the Naive Bayes model on BoW\n",
    "nb_bow = MultinomialNB()\n",
    "nb_bow.fit(X_train_bow, y_train)\n",
    "\n",
    "# Make predictions on the test set (BoW)\n",
    "y_pred_bow = nb_bow.predict(X_test_bow)"
   ]
  },
  {
   "cell_type": "code",
   "execution_count": 93,
   "id": "b3a92f2a-c53a-4853-bbec-d964e81e8d1d",
   "metadata": {},
   "outputs": [],
   "source": [
    "# Initialize and Train the Naive Bayes model on TF-IDF\n",
    "nb_tfidf = MultinomialNB()\n",
    "nb_tfidf.fit(X_train_tfidf, y_train)\n",
    "\n",
    "# Make predictions on the test set (TF-IDF)\n",
    "y_pred_tfidf = nb_tfidf.predict(X_test_tfidf)"
   ]
  },
  {
   "cell_type": "markdown",
   "id": "c5ba070b-7a34-46bf-983e-3916a30f87a9",
   "metadata": {},
   "source": [
    "# 5. Model Evaluation:\n",
    "- Assess model performance using accuracy and F1 score metrics.\n",
    "- Optionally, conduct hyperparameter tuning for improved performance."
   ]
  },
  {
   "cell_type": "code",
   "execution_count": 94,
   "id": "8183481f-05c0-4099-b060-db9fd6feeba0",
   "metadata": {},
   "outputs": [],
   "source": [
    "# Import necessary libraries for evaluation\n",
    "from sklearn.metrics import accuracy_score, f1_score, classification_report"
   ]
  },
  {
   "cell_type": "code",
   "execution_count": 95,
   "id": "4d20cb96-fad4-4604-ba60-8f7a41953e6d",
   "metadata": {},
   "outputs": [
    {
     "name": "stdout",
     "output_type": "stream",
     "text": [
      "Evaluation for VADER\n",
      "VADER Classification Report:\n",
      "              precision    recall  f1-score   support\n",
      "\n",
      "    Negative       0.87      0.66      0.75      6418\n",
      "     Neutral       0.03      0.07      0.04       692\n",
      "    Positive       0.63      0.73      0.68      4890\n",
      "\n",
      "    accuracy                           0.65     12000\n",
      "   macro avg       0.51      0.48      0.49     12000\n",
      "weighted avg       0.72      0.65      0.68     12000\n",
      "\n"
     ]
    }
   ],
   "source": [
    "# Evaluate VADER Model Prediction\n",
    "print(\"Evaluation for VADER\")\n",
    "vader_classification_report = classification_report(reviews['sentiment'],reviews['vader_sentiment'])\n",
    "print(\"VADER Classification Report:\")\n",
    "print(vader_classification_report)\n",
    "vader_accuracy = accuracy_score(reviews['sentiment'],reviews['vader_sentiment']) * 100\n",
    "vader_f1 = f1_score(reviews['sentiment'], reviews['vader_sentiment'], average='weighted') * 100\n"
   ]
  },
  {
   "cell_type": "code",
   "execution_count": 97,
   "id": "36bdff74-c432-4fdb-a161-f0110278a160",
   "metadata": {},
   "outputs": [
    {
     "name": "stdout",
     "output_type": "stream",
     "text": [
      "Evaluation for Naive Bayes (BoW)\n",
      "Classification Report (BoW):\n",
      "              precision    recall  f1-score   support\n",
      "\n",
      "    Negative       0.87      0.94      0.90      1275\n",
      "     Neutral       0.09      0.02      0.03       147\n",
      "    Positive       0.90      0.91      0.91       978\n",
      "\n",
      "    accuracy                           0.87      2400\n",
      "   macro avg       0.62      0.62      0.61      2400\n",
      "weighted avg       0.83      0.87      0.85      2400\n",
      "\n"
     ]
    }
   ],
   "source": [
    "# Evaluate Naive Bayes (BoW) Model\n",
    "print(\"Evaluation for Naive Bayes (BoW)\")\n",
    "print(\"Classification Report (BoW):\")\n",
    "print(classification_report(y_test, y_pred_bow))\n",
    "bow_accuracy = (accuracy_score(y_test, y_pred_bow)) * 100 \n",
    "bow_f1 = (f1_score(y_test, y_pred_bow, average='weighted')) * 100\n"
   ]
  },
  {
   "cell_type": "code",
   "execution_count": 98,
   "id": "50bac803-778c-4987-bcac-80537b9dd733",
   "metadata": {},
   "outputs": [
    {
     "name": "stdout",
     "output_type": "stream",
     "text": [
      "Evaluation for Naive Bayes (TF-IDF):\n",
      "Classification Report (TF-IDF):\n",
      "              precision    recall  f1-score   support\n",
      "\n",
      "    Negative       0.79      0.98      0.87      1275\n",
      "     Neutral       0.00      0.00      0.00       147\n",
      "    Positive       0.94      0.79      0.86       978\n",
      "\n",
      "    accuracy                           0.84      2400\n",
      "   macro avg       0.58      0.59      0.58      2400\n",
      "weighted avg       0.80      0.84      0.81      2400\n",
      "\n"
     ]
    }
   ],
   "source": [
    "# Evaluate Naive Bayes (TF-IDF) Model\n",
    "print(\"Evaluation for Naive Bayes (TF-IDF):\")\n",
    "print(\"Classification Report (TF-IDF):\")\n",
    "print(classification_report(y_test, y_pred_tfidf))\n",
    "tfidf_accuracy = (accuracy_score(y_test, y_pred_tfidf)) * 100  # Calculate accuracy\n",
    "tfidf_f1 = (f1_score(y_test, y_pred_tfidf, average='weighted')) * 100  # Calculate F1 score"
   ]
  },
  {
   "cell_type": "code",
   "execution_count": 99,
   "id": "a6be7b9d-605c-4311-9a54-d9562324620a",
   "metadata": {},
   "outputs": [
    {
     "data": {
      "text/html": [
       "<div>\n",
       "<style scoped>\n",
       "    .dataframe tbody tr th:only-of-type {\n",
       "        vertical-align: middle;\n",
       "    }\n",
       "\n",
       "    .dataframe tbody tr th {\n",
       "        vertical-align: top;\n",
       "    }\n",
       "\n",
       "    .dataframe thead th {\n",
       "        text-align: right;\n",
       "    }\n",
       "</style>\n",
       "<table border=\"1\" class=\"dataframe\">\n",
       "  <thead>\n",
       "    <tr style=\"text-align: right;\">\n",
       "      <th></th>\n",
       "      <th>Model</th>\n",
       "      <th>Accuracy</th>\n",
       "      <th>F1 Score</th>\n",
       "    </tr>\n",
       "  </thead>\n",
       "  <tbody>\n",
       "    <tr>\n",
       "      <th>0</th>\n",
       "      <td>VADER</td>\n",
       "      <td>65.40%</td>\n",
       "      <td>67.96%</td>\n",
       "    </tr>\n",
       "    <tr>\n",
       "      <th>1</th>\n",
       "      <td>Naive Bayes (BoW)</td>\n",
       "      <td>87.08%</td>\n",
       "      <td>85.02%</td>\n",
       "    </tr>\n",
       "    <tr>\n",
       "      <th>2</th>\n",
       "      <td>Naive Bayes (TF-IDF)</td>\n",
       "      <td>84.04%</td>\n",
       "      <td>81.32%</td>\n",
       "    </tr>\n",
       "  </tbody>\n",
       "</table>\n",
       "</div>"
      ],
      "text/plain": [
       "                  Model Accuracy F1 Score\n",
       "0                 VADER   65.40%   67.96%\n",
       "1     Naive Bayes (BoW)   87.08%   85.02%\n",
       "2  Naive Bayes (TF-IDF)   84.04%   81.32%"
      ]
     },
     "execution_count": 99,
     "metadata": {},
     "output_type": "execute_result"
    }
   ],
   "source": [
    "# Create a DataFrame to consolidate the evaluation metrics (accuracy and F1 score) for the three models: (VADER, Naive Bayes with BoW, and Naive Bayes with TF-IDF).\n",
    "# Create a dictionary with the model names and their corresponding accuracy and F1 scores\n",
    "evaluation_metrics = {\n",
    "    'Model': ['VADER', 'Naive Bayes (BoW)', 'Naive Bayes (TF-IDF)'],\n",
    "    'Accuracy': [vader_accuracy, bow_accuracy, tfidf_accuracy],\n",
    "    'F1 Score': [vader_f1, bow_f1, tfidf_f1]\n",
    "}\n",
    "\n",
    "# Convert the dictionary into a DataFrame\n",
    "evaluation_data = pd.DataFrame(evaluation_metrics)\n",
    "\n",
    "# Define a function to format the numbers as percentages\n",
    "def format_percentage(value):\n",
    "    return f'{value:.2f}%'\n",
    "\n",
    "# Use apply with the custom function for both columns\n",
    "evaluation_data['Accuracy'] = evaluation_data['Accuracy'].apply(format_percentage)\n",
    "evaluation_data['F1 Score'] = evaluation_data['F1 Score'].apply(format_percentage)\n",
    "\n",
    "# print output\n",
    "evaluation_data"
   ]
  },
  {
   "cell_type": "code",
   "execution_count": null,
   "id": "eb54e3b6-096a-4ebc-930f-43abd4db6091",
   "metadata": {},
   "outputs": [],
   "source": [
    "\"\"\"The table above shows that Naive Bayes Model using Bag of Words vectorization produces the highest \n",
    "accuracy in classifying text reviews. It performs particulary well for negative and positive reviews, with\n",
    "scores of 90 and 91% respectively. This is expected as the dataset contains a high number of both positive\n",
    "and negative reviews \"\"\" \n",
    "\n",
    "\"\"\"\"The performance of Vader, the pre-trained model is the lowest for both text classes and this is expected as\n",
    "the model is suited for short text blocks rather than long ones\"\"\"\n",
    "\n",
    "\"\"\"All models struggle with classifying neutral reviews due to class imbalance and inadquate number of reviews\n",
    "in the neutral class\n",
    "\"\"\""
   ]
  },
  {
   "cell_type": "markdown",
   "id": "cdc8aac5-1769-4538-b041-d3a4618d3fb2",
   "metadata": {},
   "source": [
    "## Try other models and compare performance \n",
    "-  Logistic Regression\n",
    "-  XG-BOOST\n"
   ]
  },
  {
   "cell_type": "code",
   "execution_count": 100,
   "id": "80f4c3ae-2d50-4fe3-b3ec-321794417560",
   "metadata": {},
   "outputs": [],
   "source": [
    "# Import necessary libraries\n",
    "from sklearn.linear_model import LogisticRegression\n",
    "import xgboost as xgb"
   ]
  },
  {
   "cell_type": "code",
   "execution_count": 114,
   "id": "41797f3b-5efc-4b77-9f93-047160a31b81",
   "metadata": {},
   "outputs": [
    {
     "data": {
      "text/plain": [
       "0    6418\n",
       "2    4890\n",
       "1     692\n",
       "Name: Sentiment_Encoded, dtype: int64"
      ]
     },
     "execution_count": 114,
     "metadata": {},
     "output_type": "execute_result"
    }
   ],
   "source": [
    "#Encode sentiment column using Label encoder\n",
    "from sklearn.preprocessing import LabelEncoder\n",
    "\n",
    "# Encode Sentiment using labelEncoder (binary encoding for Positive, Negative, Neutral)\n",
    "encoder = LabelEncoder()\n",
    "\n",
    "# Fit and transform the 'Sentiment' column\n",
    "reviews[\"Sentiment_Encoded\"] = encoder.fit_transform(reviews[\"sentiment\"])\n",
    "\n",
    "reviews[\"Sentiment_Encoded\"].value_counts()"
   ]
  },
  {
   "cell_type": "code",
   "execution_count": 115,
   "id": "d529169f-4a96-438a-9980-1b67268586bd",
   "metadata": {},
   "outputs": [
    {
     "data": {
      "text/html": [
       "<div>\n",
       "<style scoped>\n",
       "    .dataframe tbody tr th:only-of-type {\n",
       "        vertical-align: middle;\n",
       "    }\n",
       "\n",
       "    .dataframe tbody tr th {\n",
       "        vertical-align: top;\n",
       "    }\n",
       "\n",
       "    .dataframe thead th {\n",
       "        text-align: right;\n",
       "    }\n",
       "</style>\n",
       "<table border=\"1\" class=\"dataframe\">\n",
       "  <thead>\n",
       "    <tr style=\"text-align: right;\">\n",
       "      <th></th>\n",
       "      <th>StarRatings</th>\n",
       "      <th>Review</th>\n",
       "      <th>sentiment</th>\n",
       "      <th>Review_cleaned</th>\n",
       "      <th>Review_tokens</th>\n",
       "      <th>vader_sentiment</th>\n",
       "      <th>Sentiment_Encoded</th>\n",
       "    </tr>\n",
       "  </thead>\n",
       "  <tbody>\n",
       "    <tr>\n",
       "      <th>0</th>\n",
       "      <td>3</td>\n",
       "      <td>Aliexpress is easy to work with, but they fulf...</td>\n",
       "      <td>Neutral</td>\n",
       "      <td>aliexpress easy work fulfill orders via rd par...</td>\n",
       "      <td>[aliexpress, easy, work, fulfill, orders, via,...</td>\n",
       "      <td>Positive</td>\n",
       "      <td>1</td>\n",
       "    </tr>\n",
       "    <tr>\n",
       "      <th>1</th>\n",
       "      <td>5</td>\n",
       "      <td>I have been using AliExpress for well over a y...</td>\n",
       "      <td>Positive</td>\n",
       "      <td>using aliexpress well year consistently impres...</td>\n",
       "      <td>[using, aliexpress, well, year, consistently, ...</td>\n",
       "      <td>Positive</td>\n",
       "      <td>2</td>\n",
       "    </tr>\n",
       "    <tr>\n",
       "      <th>2</th>\n",
       "      <td>5</td>\n",
       "      <td>A good, customer-centric marketplace. But neve...</td>\n",
       "      <td>Positive</td>\n",
       "      <td>good customercentric marketplace nevertheless ...</td>\n",
       "      <td>[good, customercentric, marketplace, neverthel...</td>\n",
       "      <td>Positive</td>\n",
       "      <td>2</td>\n",
       "    </tr>\n",
       "    <tr>\n",
       "      <th>3</th>\n",
       "      <td>1</td>\n",
       "      <td>I purchased an Android Tesla style radio.\\nAft...</td>\n",
       "      <td>Negative</td>\n",
       "      <td>purchased android tesla style radio installed ...</td>\n",
       "      <td>[purchased, android, tesla, style, radio, inst...</td>\n",
       "      <td>Positive</td>\n",
       "      <td>0</td>\n",
       "    </tr>\n",
       "    <tr>\n",
       "      <th>4</th>\n",
       "      <td>1</td>\n",
       "      <td>They are an absolute con job dont waste your m...</td>\n",
       "      <td>Negative</td>\n",
       "      <td>absolute con job dont waste money scammers rec...</td>\n",
       "      <td>[absolute, con, job, dont, waste, money, scamm...</td>\n",
       "      <td>Positive</td>\n",
       "      <td>0</td>\n",
       "    </tr>\n",
       "    <tr>\n",
       "      <th>...</th>\n",
       "      <td>...</td>\n",
       "      <td>...</td>\n",
       "      <td>...</td>\n",
       "      <td>...</td>\n",
       "      <td>...</td>\n",
       "      <td>...</td>\n",
       "      <td>...</td>\n",
       "    </tr>\n",
       "    <tr>\n",
       "      <th>11995</th>\n",
       "      <td>5</td>\n",
       "      <td>I'm happy with the out come. Thank you</td>\n",
       "      <td>Positive</td>\n",
       "      <td>im happy come thank</td>\n",
       "      <td>[im, happy, come, thank]</td>\n",
       "      <td>Positive</td>\n",
       "      <td>2</td>\n",
       "    </tr>\n",
       "    <tr>\n",
       "      <th>11996</th>\n",
       "      <td>5</td>\n",
       "      <td>Excellent quality</td>\n",
       "      <td>Positive</td>\n",
       "      <td>excellent quality</td>\n",
       "      <td>[excellent, quality]</td>\n",
       "      <td>Positive</td>\n",
       "      <td>2</td>\n",
       "    </tr>\n",
       "    <tr>\n",
       "      <th>11997</th>\n",
       "      <td>1</td>\n",
       "      <td>I ordered 6 items from AliExpress and two sell...</td>\n",
       "      <td>Negative</td>\n",
       "      <td>ordered items aliexpress two sellers cancelled...</td>\n",
       "      <td>[ordered, items, aliexpress, two, sellers, can...</td>\n",
       "      <td>Negative</td>\n",
       "      <td>0</td>\n",
       "    </tr>\n",
       "    <tr>\n",
       "      <th>11998</th>\n",
       "      <td>5</td>\n",
       "      <td>Great platform for doing business with vendors...</td>\n",
       "      <td>Positive</td>\n",
       "      <td>great platform business vendors would never ab...</td>\n",
       "      <td>[great, platform, business, vendors, would, ne...</td>\n",
       "      <td>Positive</td>\n",
       "      <td>2</td>\n",
       "    </tr>\n",
       "    <tr>\n",
       "      <th>11999</th>\n",
       "      <td>1</td>\n",
       "      <td>I have been satisfied by AliExpress until rece...</td>\n",
       "      <td>Negative</td>\n",
       "      <td>satisfied aliexpress recently however changed ...</td>\n",
       "      <td>[satisfied, aliexpress, recently, however, cha...</td>\n",
       "      <td>Negative</td>\n",
       "      <td>0</td>\n",
       "    </tr>\n",
       "  </tbody>\n",
       "</table>\n",
       "<p>12000 rows × 7 columns</p>\n",
       "</div>"
      ],
      "text/plain": [
       "       StarRatings                                             Review  \\\n",
       "0                3  Aliexpress is easy to work with, but they fulf...   \n",
       "1                5  I have been using AliExpress for well over a y...   \n",
       "2                5  A good, customer-centric marketplace. But neve...   \n",
       "3                1  I purchased an Android Tesla style radio.\\nAft...   \n",
       "4                1  They are an absolute con job dont waste your m...   \n",
       "...            ...                                                ...   \n",
       "11995            5             I'm happy with the out come. Thank you   \n",
       "11996            5                                  Excellent quality   \n",
       "11997            1  I ordered 6 items from AliExpress and two sell...   \n",
       "11998            5  Great platform for doing business with vendors...   \n",
       "11999            1  I have been satisfied by AliExpress until rece...   \n",
       "\n",
       "      sentiment                                     Review_cleaned  \\\n",
       "0       Neutral  aliexpress easy work fulfill orders via rd par...   \n",
       "1      Positive  using aliexpress well year consistently impres...   \n",
       "2      Positive  good customercentric marketplace nevertheless ...   \n",
       "3      Negative  purchased android tesla style radio installed ...   \n",
       "4      Negative  absolute con job dont waste money scammers rec...   \n",
       "...         ...                                                ...   \n",
       "11995  Positive                                im happy come thank   \n",
       "11996  Positive                                  excellent quality   \n",
       "11997  Negative  ordered items aliexpress two sellers cancelled...   \n",
       "11998  Positive  great platform business vendors would never ab...   \n",
       "11999  Negative  satisfied aliexpress recently however changed ...   \n",
       "\n",
       "                                           Review_tokens vader_sentiment  \\\n",
       "0      [aliexpress, easy, work, fulfill, orders, via,...        Positive   \n",
       "1      [using, aliexpress, well, year, consistently, ...        Positive   \n",
       "2      [good, customercentric, marketplace, neverthel...        Positive   \n",
       "3      [purchased, android, tesla, style, radio, inst...        Positive   \n",
       "4      [absolute, con, job, dont, waste, money, scamm...        Positive   \n",
       "...                                                  ...             ...   \n",
       "11995                           [im, happy, come, thank]        Positive   \n",
       "11996                               [excellent, quality]        Positive   \n",
       "11997  [ordered, items, aliexpress, two, sellers, can...        Negative   \n",
       "11998  [great, platform, business, vendors, would, ne...        Positive   \n",
       "11999  [satisfied, aliexpress, recently, however, cha...        Negative   \n",
       "\n",
       "       Sentiment_Encoded  \n",
       "0                      1  \n",
       "1                      2  \n",
       "2                      2  \n",
       "3                      0  \n",
       "4                      0  \n",
       "...                  ...  \n",
       "11995                  2  \n",
       "11996                  2  \n",
       "11997                  0  \n",
       "11998                  2  \n",
       "11999                  0  \n",
       "\n",
       "[12000 rows x 7 columns]"
      ]
     },
     "execution_count": 115,
     "metadata": {},
     "output_type": "execute_result"
    }
   ],
   "source": [
    "### reviews , neutral - 1, positive - 2, negative , 0"
   ]
  },
  {
   "cell_type": "code",
   "execution_count": 116,
   "id": "de2578ac-2d5f-454b-b70b-0cd859409116",
   "metadata": {},
   "outputs": [],
   "source": [
    "##split the data again\n",
    "\n",
    "# BoW Train-Test Split\n",
    "X_train_bow,X_test_bow,y_train,y_test = train_test_split(bow_matrix, reviews[\"Sentiment_Encoded\"], \n",
    "                                                                 test_size = 0.2, random_state = 42)"
   ]
  },
  {
   "cell_type": "code",
   "execution_count": 117,
   "id": "24af8292-c04c-470e-97a2-61e811603015",
   "metadata": {},
   "outputs": [],
   "source": [
    "## TF-IDF Train-Test Split\n",
    "X_train_tfidf,X_test_tfidf,y_train,y_test = train_test_split(tfidf_matrix, reviews[\"Sentiment_Encoded\"], \n",
    "                                                                 test_size = 0.2, random_state = 42)"
   ]
  },
  {
   "cell_type": "code",
   "execution_count": 118,
   "id": "eb1614ca-34f3-4f15-9cf6-08d25a48c43a",
   "metadata": {},
   "outputs": [],
   "source": [
    "# Initialize, Train, and Predict the Logistic Regression model on BoW\n",
    "log_bow = LogisticRegression()                    # Intialize\n",
    "log_bow.fit(X_train_bow, y_train)                                        # Train\n",
    "log_y_pred_bow = log_bow.predict(X_test_bow)                             # Predict"
   ]
  },
  {
   "cell_type": "code",
   "execution_count": 119,
   "id": "e132e1f8-af9d-4924-a020-dba3fc234989",
   "metadata": {},
   "outputs": [],
   "source": [
    "# Initialize, Train, and Predict the Logistic Regression model on TF-IDF\n",
    "log_tfidf = LogisticRegression()                  # Initialize\n",
    "log_tfidf.fit(X_train_tfidf, y_train)                                    # Train\n",
    "log_y_pred_tfidf = log_tfidf.predict(X_test_tfidf)                       # Predict"
   ]
  },
  {
   "cell_type": "code",
   "execution_count": 120,
   "id": "0f08553e-f4aa-4648-8880-28fd5ce2d55f",
   "metadata": {},
   "outputs": [],
   "source": [
    "# Initialize for XGBoost Model\n",
    "xgb_bow = xgb.XGBClassifier()\n",
    "xgb_tfidf = xgb.XGBClassifier()"
   ]
  },
  {
   "cell_type": "code",
   "execution_count": 121,
   "id": "2c163a08-0a4d-4577-b698-a6b7b9ac782f",
   "metadata": {},
   "outputs": [],
   "source": [
    "# Train and Predict the XGBoost model on BoW\n",
    "xgb_bow.fit(X_train_bow, y_train)                                       # Train\n",
    "xgb_y_pred_bow = xgb_bow.predict(X_test_bow)                            # Predict"
   ]
  },
  {
   "cell_type": "code",
   "execution_count": 123,
   "id": "db5f382a-4841-449a-9f3f-b11ae9e4d8e3",
   "metadata": {},
   "outputs": [],
   "source": [
    "# Train and Predict the XGBoost model on TF-IDF\n",
    "xgb_tfidf.fit(X_train_tfidf, y_train)                                   # Train\n",
    "xgb_y_pred_tfidf = xgb_tfidf.predict(X_test_tfidf)                      # Predict"
   ]
  },
  {
   "cell_type": "code",
   "execution_count": 126,
   "id": "03ff60cd-04eb-4e65-885e-f649b8c80185",
   "metadata": {},
   "outputs": [
    {
     "name": "stdout",
     "output_type": "stream",
     "text": [
      "Evaluation for Logistic Regression (BoW):\n",
      "Classification Report (BoW):\n",
      "              precision    recall  f1-score   support\n",
      "\n",
      "           0       0.90      0.90      0.90      1275\n",
      "           1       0.23      0.12      0.15       147\n",
      "           2       0.88      0.94      0.91       978\n",
      "\n",
      "    accuracy                           0.87      2400\n",
      "   macro avg       0.67      0.65      0.66      2400\n",
      "weighted avg       0.85      0.87      0.86      2400\n",
      "\n",
      "Evaluation for Logistic Regression (TF-IDF):\n",
      "Classification Report (TF-IDF):\n",
      "              precision    recall  f1-score   support\n",
      "\n",
      "           0       0.88      0.95      0.92      1275\n",
      "           1       0.57      0.03      0.05       147\n",
      "           2       0.90      0.93      0.92       978\n",
      "\n",
      "    accuracy                           0.89      2400\n",
      "   macro avg       0.78      0.64      0.63      2400\n",
      "weighted avg       0.87      0.89      0.86      2400\n",
      "\n",
      "Evaluation for XGBoost (BoW):\n",
      "Classification Report (BoW):\n",
      "              precision    recall  f1-score   support\n",
      "\n",
      "           0       0.88      0.92      0.90      1275\n",
      "           1       0.22      0.03      0.05       147\n",
      "           2       0.86      0.93      0.90       978\n",
      "\n",
      "    accuracy                           0.87      2400\n",
      "   macro avg       0.66      0.63      0.62      2400\n",
      "weighted avg       0.83      0.87      0.85      2400\n",
      "\n",
      "Evaluation for XGBoost (TF-IDF):\n",
      "Classification Report (TF-IDF):\n",
      "              precision    recall  f1-score   support\n",
      "\n",
      "           0       0.88      0.93      0.91      1275\n",
      "           1       0.33      0.03      0.05       147\n",
      "           2       0.87      0.93      0.90       978\n",
      "\n",
      "    accuracy                           0.87      2400\n",
      "   macro avg       0.69      0.63      0.62      2400\n",
      "weighted avg       0.84      0.87      0.85      2400\n",
      "\n"
     ]
    },
    {
     "data": {
      "text/html": [
       "<div>\n",
       "<style scoped>\n",
       "    .dataframe tbody tr th:only-of-type {\n",
       "        vertical-align: middle;\n",
       "    }\n",
       "\n",
       "    .dataframe tbody tr th {\n",
       "        vertical-align: top;\n",
       "    }\n",
       "\n",
       "    .dataframe thead th {\n",
       "        text-align: right;\n",
       "    }\n",
       "</style>\n",
       "<table border=\"1\" class=\"dataframe\">\n",
       "  <thead>\n",
       "    <tr style=\"text-align: right;\">\n",
       "      <th></th>\n",
       "      <th>Model</th>\n",
       "      <th>Accuracy</th>\n",
       "      <th>F1 Score</th>\n",
       "    </tr>\n",
       "  </thead>\n",
       "  <tbody>\n",
       "    <tr>\n",
       "      <th>0</th>\n",
       "      <td>VADER</td>\n",
       "      <td>65.40%</td>\n",
       "      <td>67.96%</td>\n",
       "    </tr>\n",
       "    <tr>\n",
       "      <th>1</th>\n",
       "      <td>Naive Bayes (BoW)</td>\n",
       "      <td>87.08%</td>\n",
       "      <td>85.02%</td>\n",
       "    </tr>\n",
       "    <tr>\n",
       "      <th>2</th>\n",
       "      <td>Naive Bayes (TF-IDF)</td>\n",
       "      <td>84.04%</td>\n",
       "      <td>81.32%</td>\n",
       "    </tr>\n",
       "    <tr>\n",
       "      <th>3</th>\n",
       "      <td>Logistic Regression (BoW)</td>\n",
       "      <td>87.21%</td>\n",
       "      <td>86.04%</td>\n",
       "    </tr>\n",
       "    <tr>\n",
       "      <th>4</th>\n",
       "      <td>Logistic Regression (TF-IDF)</td>\n",
       "      <td>88.88%</td>\n",
       "      <td>86.35%</td>\n",
       "    </tr>\n",
       "    <tr>\n",
       "      <th>5</th>\n",
       "      <td>XGBoost (BoW)</td>\n",
       "      <td>86.96%</td>\n",
       "      <td>84.67%</td>\n",
       "    </tr>\n",
       "    <tr>\n",
       "      <th>6</th>\n",
       "      <td>XGBoost (TF-IDF)</td>\n",
       "      <td>87.38%</td>\n",
       "      <td>84.98%</td>\n",
       "    </tr>\n",
       "  </tbody>\n",
       "</table>\n",
       "</div>"
      ],
      "text/plain": [
       "                          Model Accuracy F1 Score\n",
       "0                         VADER   65.40%   67.96%\n",
       "1             Naive Bayes (BoW)   87.08%   85.02%\n",
       "2          Naive Bayes (TF-IDF)   84.04%   81.32%\n",
       "3     Logistic Regression (BoW)   87.21%   86.04%\n",
       "4  Logistic Regression (TF-IDF)   88.88%   86.35%\n",
       "5                 XGBoost (BoW)   86.96%   84.67%\n",
       "6              XGBoost (TF-IDF)   87.38%   84.98%"
      ]
     },
     "execution_count": 126,
     "metadata": {},
     "output_type": "execute_result"
    }
   ],
   "source": [
    "# Logistic Regression (BoW) Model\n",
    "print(\"Evaluation for Logistic Regression (BoW):\")\n",
    "print(\"Classification Report (BoW):\")\n",
    "print(classification_report(y_test, log_y_pred_bow))\n",
    "log_bow_accuracy = (accuracy_score(y_test, log_y_pred_bow)) * 100 \n",
    "log_bow_f1 = (f1_score(y_test, log_y_pred_bow, average='weighted')) * 100\n",
    "\n",
    "# Logistic Regression (TF-IDF) Model\n",
    "print(\"Evaluation for Logistic Regression (TF-IDF):\")\n",
    "print(\"Classification Report (TF-IDF):\")\n",
    "print(classification_report(y_test, log_y_pred_tfidf))\n",
    "log_tfidf_accuracy = (accuracy_score(y_test, log_y_pred_tfidf)) * 100  # Calculate accuracy\n",
    "log_tfidf_f1 = (f1_score(y_test, log_y_pred_tfidf, average='weighted')) * 100  # Calculate F1 score\n",
    "\n",
    "# XGBoost (BoW) Model\n",
    "print(\"Evaluation for XGBoost (BoW):\")\n",
    "print(\"Classification Report (BoW):\")\n",
    "print(classification_report(y_test, xgb_y_pred_bow))\n",
    "xgb_bow_accuracy = (accuracy_score(y_test, xgb_y_pred_bow)) * 100 \n",
    "xgb_bow_f1 = (f1_score(y_test, xgb_y_pred_bow, average='weighted')) * 100\n",
    "\n",
    "# XGBoost (TF-IDF) Model\n",
    "print(\"Evaluation for XGBoost (TF-IDF):\")\n",
    "print(\"Classification Report (TF-IDF):\")\n",
    "print(classification_report(y_test, xgb_y_pred_tfidf))\n",
    "xgb_tfidf_accuracy = (accuracy_score(y_test, xgb_y_pred_tfidf)) * 100  # Calculate accuracy\n",
    "xgb_tfidf_f1 = (f1_score(y_test, xgb_y_pred_tfidf, average='weighted')) * 100  # Calculate F1 score\n",
    "\n",
    "# Create a DataFrame to consolidate the evaluation metrics (accuracy and F1 score) for the three models: (VADER, Naive Bayes with BoW, and Naive Bayes with TF-IDF).\n",
    "# Create a dictionary with the model names and their corresponding accuracy and F1 scores\n",
    "evaluation_metrics1 = {\n",
    "    'Model': ['VADER', 'Naive Bayes (BoW)', 'Naive Bayes (TF-IDF)', 'Logistic Regression (BoW)', 'Logistic Regression (TF-IDF)', 'XGBoost (BoW)', 'XGBoost (TF-IDF)'],\n",
    "    'Accuracy': [vader_accuracy, bow_accuracy, tfidf_accuracy, log_bow_accuracy, log_tfidf_accuracy, xgb_bow_accuracy, xgb_tfidf_accuracy],\n",
    "    'F1 Score': [vader_f1, bow_f1, tfidf_f1, log_bow_f1, log_tfidf_f1, xgb_bow_f1, xgb_tfidf_f1]\n",
    "}\n",
    "\n",
    "# Convert the dictionary into a DataFrame\n",
    "evaluation_data1 = pd.DataFrame(evaluation_metrics1)\n",
    "\n",
    "# Define a function to format the numbers as percentages\n",
    "def format_percentage(value):\n",
    "    return f'{value:.2f}%'\n",
    "\n",
    "# Use apply with the custom function for both columns\n",
    "evaluation_data1['Accuracy'] = evaluation_data1['Accuracy'].apply(format_percentage)\n",
    "evaluation_data1['F1 Score'] = evaluation_data1['F1 Score'].apply(format_percentage)\n",
    "\n",
    "# print output\n",
    "evaluation_data1\n"
   ]
  },
  {
   "cell_type": "code",
   "execution_count": 130,
   "id": "226c31a3-8de4-41a6-9570-3e2f36bd2e8e",
   "metadata": {},
   "outputs": [
    {
     "data": {
      "image/png": "[encoded data removed]",
      "text/plain": [
       "<Figure size 720x360 with 1 Axes>"
      ]
     },
     "metadata": {
      "needs_background": "light"
     },
     "output_type": "display_data"
    }
   ],
   "source": [
    "import matplotlib.pyplot as plt\n",
    "import numpy as np\n",
    "\n",
    "# Set the figure size\n",
    "plt.figure(figsize=(10, 5))\n",
    "\n",
    "# Define the positions for each model on the x-axis\n",
    "x_positions = np.arange(len(evaluation_data1['Model']))\n",
    "\n",
    "# Create a bar chart for F1 Score\n",
    "plt.bar(x_positions, evaluation_data1['F1 Score'], color='lightcoral', width=0.6)\n",
    "\n",
    "# Add labels and title\n",
    "plt.xlabel('Model', fontsize=12)\n",
    "plt.ylabel('F1 Score (%)', fontsize=12)\n",
    "plt.title('F1 Score for Sentiment Analysis Models', fontsize=14)\n",
    "plt.xticks(x_positions, evaluation_data1['Model'], rotation=45, ha='right', fontsize=10)\n",
    "\n",
    "# Show the chart\n",
    "plt.tight_layout()\n",
    "plt.show()"
   ]
  },
  {
   "cell_type": "code",
   "execution_count": null,
   "id": "d05a2b9d-41b6-4073-ac96-dc00b636b404",
   "metadata": {},
   "outputs": [],
   "source": []
  }
 ],
 "metadata": {
  "kernelspec": {
   "display_name": "Python 3 (ipykernel)",
   "language": "python",
   "name": "python3"
  },
  "language_info": {
   "codemirror_mode": {
    "name": "ipython",
    "version": 3
   },
   "file_extension": ".py",
   "mimetype": "text/x-python",
   "name": "python",
   "nbconvert_exporter": "python",
   "pygments_lexer": "ipython3",
   "version": "3.9.12"
  }
 },
 "nbformat": 4,
 "nbformat_minor": 5
}
